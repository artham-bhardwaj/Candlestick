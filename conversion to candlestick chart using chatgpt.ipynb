{
 "cells": [
  {
   "cell_type": "code",
   "execution_count": 1,
   "id": "35c156d0",
   "metadata": {},
   "outputs": [],
   "source": [
    "import matplotlib.pyplot as plt"
   ]
  },
  {
   "cell_type": "code",
   "execution_count": 7,
   "id": "147c046e",
   "metadata": {},
   "outputs": [
    {
     "name": "stdout",
     "output_type": "stream",
     "text": [
      "Requirement already satisfied: mplfinance in c:\\users\\artha\\appdata\\local\\programs\\python\\python310\\lib\\site-packages (0.12.9b7)\n",
      "Requirement already satisfied: matplotlib in c:\\users\\artha\\appdata\\local\\programs\\python\\python310\\lib\\site-packages (from mplfinance) (3.6.3)\n",
      "Requirement already satisfied: pandas in c:\\users\\artha\\appdata\\local\\programs\\python\\python310\\lib\\site-packages (from mplfinance) (1.5.3)\n",
      "Requirement already satisfied: numpy>=1.19 in c:\\users\\artha\\appdata\\local\\programs\\python\\python310\\lib\\site-packages (from matplotlib->mplfinance) (1.24.1)\n",
      "Requirement already satisfied: fonttools>=4.22.0 in c:\\users\\artha\\appdata\\local\\programs\\python\\python310\\lib\\site-packages (from matplotlib->mplfinance) (4.38.0)\n",
      "Requirement already satisfied: python-dateutil>=2.7 in c:\\users\\artha\\appdata\\local\\programs\\python\\python310\\lib\\site-packages (from matplotlib->mplfinance) (2.8.2)\n",
      "Requirement already satisfied: contourpy>=1.0.1 in c:\\users\\artha\\appdata\\local\\programs\\python\\python310\\lib\\site-packages (from matplotlib->mplfinance) (1.0.7)\n",
      "Requirement already satisfied: kiwisolver>=1.0.1 in c:\\users\\artha\\appdata\\local\\programs\\python\\python310\\lib\\site-packages (from matplotlib->mplfinance) (1.4.4)\n",
      "Requirement already satisfied: pyparsing>=2.2.1 in c:\\users\\artha\\appdata\\local\\programs\\python\\python310\\lib\\site-packages (from matplotlib->mplfinance) (3.0.9)\n",
      "Requirement already satisfied: cycler>=0.10 in c:\\users\\artha\\appdata\\local\\programs\\python\\python310\\lib\\site-packages (from matplotlib->mplfinance) (0.11.0)\n",
      "Requirement already satisfied: packaging>=20.0 in c:\\users\\artha\\appdata\\local\\programs\\python\\python310\\lib\\site-packages (from matplotlib->mplfinance) (23.0)\n",
      "Requirement already satisfied: pillow>=6.2.0 in c:\\users\\artha\\appdata\\local\\programs\\python\\python310\\lib\\site-packages (from matplotlib->mplfinance) (9.4.0)\n",
      "Requirement already satisfied: pytz>=2020.1 in c:\\users\\artha\\appdata\\local\\programs\\python\\python310\\lib\\site-packages (from pandas->mplfinance) (2022.7.1)\n",
      "Requirement already satisfied: six>=1.5 in c:\\users\\artha\\appdata\\local\\programs\\python\\python310\\lib\\site-packages (from python-dateutil>=2.7->matplotlib->mplfinance) (1.16.0)\n",
      "Note: you may need to restart the kernel to use updated packages.\n"
     ]
    }
   ],
   "source": [
    "pip install mplfinance"
   ]
  },
  {
   "cell_type": "code",
   "execution_count": 9,
   "id": "2b3fa5ca",
   "metadata": {},
   "outputs": [
    {
     "name": "stdout",
     "output_type": "stream",
     "text": [
      "Note: you may need to restart the kernel to use updated packages.\n"
     ]
    },
    {
     "name": "stderr",
     "output_type": "stream",
     "text": [
      "ERROR: Could not find a version that satisfies the requirement candlestick_ochl (from versions: none)\n",
      "ERROR: No matching distribution found for candlestick_ochl\n"
     ]
    }
   ],
   "source": [
    "pip install candlestick_ochl"
   ]
  },
  {
   "cell_type": "code",
   "execution_count": null,
   "id": "14b69383",
   "metadata": {},
   "outputs": [],
   "source": []
  },
  {
   "cell_type": "code",
   "execution_count": null,
   "id": "073de0d2",
   "metadata": {},
   "outputs": [],
   "source": []
  },
  {
   "cell_type": "code",
   "execution_count": null,
   "id": "89e933f0",
   "metadata": {},
   "outputs": [],
   "source": []
  },
  {
   "cell_type": "code",
   "execution_count": null,
   "id": "c15b850b",
   "metadata": {},
   "outputs": [],
   "source": []
  },
  {
   "cell_type": "code",
   "execution_count": null,
   "id": "6d450ad8",
   "metadata": {},
   "outputs": [],
   "source": []
  },
  {
   "cell_type": "code",
   "execution_count": null,
   "id": "a32e1cc3",
   "metadata": {},
   "outputs": [],
   "source": []
  },
  {
   "cell_type": "code",
   "execution_count": null,
   "id": "adfde923",
   "metadata": {},
   "outputs": [],
   "source": []
  }
 ],
 "metadata": {
  "kernelspec": {
   "display_name": "Python 3 (ipykernel)",
   "language": "python",
   "name": "python3"
  },
  "language_info": {
   "codemirror_mode": {
    "name": "ipython",
    "version": 3
   },
   "file_extension": ".py",
   "mimetype": "text/x-python",
   "name": "python",
   "nbconvert_exporter": "python",
   "pygments_lexer": "ipython3",
   "version": "3.10.6"
  }
 },
 "nbformat": 4,
 "nbformat_minor": 5
}
