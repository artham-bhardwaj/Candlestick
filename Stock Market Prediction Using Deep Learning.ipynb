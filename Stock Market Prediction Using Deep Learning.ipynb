{
 "cells": [
  {
   "cell_type": "code",
   "execution_count": 119,
   "id": "c857ede2",
   "metadata": {},
   "outputs": [],
   "source": [
    "#importing all required libraries\n",
    "import pandas as pd\n",
    "import numpy as np\n",
    "import matplotlib.pyplot as plt\n",
    "from sklearn.preprocessing import MinMaxScaler\n",
    "from sklearn.metrics import mean_squared_error\n",
    "import math\n",
    "from tensorflow.keras.models import Sequential\n",
    "from tensorflow.keras.layers import Dense\n",
    "from tensorflow.keras.layers import LSTM\n",
    "import tensorflow as tf"
   ]
  },
  {
   "cell_type": "code",
   "execution_count": 120,
   "id": "090aa09f",
   "metadata": {},
   "outputs": [
    {
     "data": {
      "text/plain": [
       "3809"
      ]
     },
     "execution_count": 120,
     "metadata": {},
     "output_type": "execute_result"
    }
   ],
   "source": [
    "#reading data from csv file\n",
    "data=pd.read_csv('GOOG.csv')\n",
    "close=data['Close']\n",
    "len(data)"
   ]
  },
  {
   "cell_type": "code",
   "execution_count": 121,
   "id": "3165b06f",
   "metadata": {},
   "outputs": [
    {
     "data": {
      "text/html": [
       "<div>\n",
       "<style scoped>\n",
       "    .dataframe tbody tr th:only-of-type {\n",
       "        vertical-align: middle;\n",
       "    }\n",
       "\n",
       "    .dataframe tbody tr th {\n",
       "        vertical-align: top;\n",
       "    }\n",
       "\n",
       "    .dataframe thead th {\n",
       "        text-align: right;\n",
       "    }\n",
       "</style>\n",
       "<table border=\"1\" class=\"dataframe\">\n",
       "  <thead>\n",
       "    <tr style=\"text-align: right;\">\n",
       "      <th></th>\n",
       "      <th>Date</th>\n",
       "      <th>Open</th>\n",
       "      <th>High</th>\n",
       "      <th>Low</th>\n",
       "      <th>Close</th>\n",
       "      <th>Adj Close</th>\n",
       "      <th>Volume</th>\n",
       "    </tr>\n",
       "  </thead>\n",
       "  <tbody>\n",
       "    <tr>\n",
       "      <th>0</th>\n",
       "      <td>8/19/2004</td>\n",
       "      <td>49.813286</td>\n",
       "      <td>51.835709</td>\n",
       "      <td>47.800831</td>\n",
       "      <td>49.982655</td>\n",
       "      <td>49.982655</td>\n",
       "      <td>44871300</td>\n",
       "    </tr>\n",
       "    <tr>\n",
       "      <th>1</th>\n",
       "      <td>8/20/2004</td>\n",
       "      <td>50.316402</td>\n",
       "      <td>54.336334</td>\n",
       "      <td>50.062355</td>\n",
       "      <td>53.952770</td>\n",
       "      <td>53.952770</td>\n",
       "      <td>22942800</td>\n",
       "    </tr>\n",
       "    <tr>\n",
       "      <th>2</th>\n",
       "      <td>8/23/2004</td>\n",
       "      <td>55.168217</td>\n",
       "      <td>56.528118</td>\n",
       "      <td>54.321388</td>\n",
       "      <td>54.495735</td>\n",
       "      <td>54.495735</td>\n",
       "      <td>18342800</td>\n",
       "    </tr>\n",
       "    <tr>\n",
       "      <th>3</th>\n",
       "      <td>8/24/2004</td>\n",
       "      <td>55.412300</td>\n",
       "      <td>55.591629</td>\n",
       "      <td>51.591621</td>\n",
       "      <td>52.239193</td>\n",
       "      <td>52.239193</td>\n",
       "      <td>15319700</td>\n",
       "    </tr>\n",
       "    <tr>\n",
       "      <th>4</th>\n",
       "      <td>8/25/2004</td>\n",
       "      <td>52.284027</td>\n",
       "      <td>53.798351</td>\n",
       "      <td>51.746044</td>\n",
       "      <td>52.802086</td>\n",
       "      <td>52.802086</td>\n",
       "      <td>9232100</td>\n",
       "    </tr>\n",
       "  </tbody>\n",
       "</table>\n",
       "</div>"
      ],
      "text/plain": [
       "        Date       Open       High        Low      Close  Adj Close    Volume\n",
       "0  8/19/2004  49.813286  51.835709  47.800831  49.982655  49.982655  44871300\n",
       "1  8/20/2004  50.316402  54.336334  50.062355  53.952770  53.952770  22942800\n",
       "2  8/23/2004  55.168217  56.528118  54.321388  54.495735  54.495735  18342800\n",
       "3  8/24/2004  55.412300  55.591629  51.591621  52.239193  52.239193  15319700\n",
       "4  8/25/2004  52.284027  53.798351  51.746044  52.802086  52.802086   9232100"
      ]
     },
     "execution_count": 121,
     "metadata": {},
     "output_type": "execute_result"
    }
   ],
   "source": [
    "#plt.plot(date[:6],close[:6])\n",
    "data.head()"
   ]
  },
  {
   "cell_type": "code",
   "execution_count": 122,
   "id": "6d8ba800",
   "metadata": {},
   "outputs": [],
   "source": [
    "#selecting close feature for prediction\n",
    "data=data.reset_index()['Close']"
   ]
  },
  {
   "cell_type": "code",
   "execution_count": 123,
   "id": "ec7a1817",
   "metadata": {},
   "outputs": [],
   "source": [
    "#converting data range from 0 to 1 as LSTM is data sensitive\n",
    "scale=MinMaxScaler(feature_range=(0,1))\n",
    "data=scale.fit_transform(np.array(data).reshape(-1,1))"
   ]
  },
  {
   "cell_type": "code",
   "execution_count": 124,
   "id": "840a43a8",
   "metadata": {},
   "outputs": [],
   "source": [
    "#train and test dataset splitting\n",
    "train_data=data[:2000]\n",
    "test_data=data[2000:]"
   ]
  },
  {
   "cell_type": "code",
   "execution_count": 125,
   "id": "ff18385d",
   "metadata": {},
   "outputs": [],
   "source": [
    "#function to create X,Y for train and test datasets\n",
    "def create_dataset(dataset,timestep):\n",
    "    X=[]\n",
    "    Y=[]\n",
    "    for i in range(len(dataset)-timestep-1):\n",
    "        X.append(dataset[i:i+timestep,0])\n",
    "        Y.append(dataset[i+timestep,0])\n",
    "    return np.array(X),np.array(Y)"
   ]
  },
  {
   "cell_type": "code",
   "execution_count": 126,
   "id": "fffb4c18",
   "metadata": {},
   "outputs": [
    {
     "data": {
      "text/plain": [
       "1809"
      ]
     },
     "execution_count": 126,
     "metadata": {},
     "output_type": "execute_result"
    }
   ],
   "source": [
    "#creating train and test data sets\n",
    "#taking timestep as 100\n",
    "X_train,Y_train=create_dataset(train_data,100)\n",
    "X_test,Y_test=create_dataset(test_data,100)\n",
    "len(test_data)"
   ]
  },
  {
   "cell_type": "code",
   "execution_count": 127,
   "id": "acafa814",
   "metadata": {},
   "outputs": [],
   "source": [
    "#Simple Moving Average technique\n",
    "\n",
    "Y_avg=[]\n",
    "sum=0\n",
    "for i in range(len(Y_test)):\n",
    "    for j in range(len(test_data)-100-1):\n",
    "        sum=sum+test_data[j]\n",
    "    avg=sum/(len(test_data)-100-1)\n",
    "    Y_avg.append(avg)\n",
    "    "
   ]
  },
  {
   "cell_type": "code",
   "execution_count": 128,
   "id": "6578ebfa",
   "metadata": {},
   "outputs": [
    {
     "data": {
      "text/plain": [
       "array([0.59742656, 0.59741044, 0.60292843, 0.60371213, 0.60434227,\n",
       "       0.59864651, 0.60139343, 0.60318696, 0.60168426, 0.59901817])"
      ]
     },
     "execution_count": 128,
     "metadata": {},
     "output_type": "execute_result"
    }
   ],
   "source": [
    "Y_test[1000:1010]"
   ]
  },
  {
   "cell_type": "code",
   "execution_count": 129,
   "id": "024e3642",
   "metadata": {},
   "outputs": [
    {
     "data": {
      "text/plain": [
       "[array([548.52837883]),\n",
       " array([549.07635923]),\n",
       " array([549.62433963]),\n",
       " array([550.17232003]),\n",
       " array([550.72030042]),\n",
       " array([551.26828082]),\n",
       " array([551.81626122]),\n",
       " array([552.36424162]),\n",
       " array([552.91222202]),\n",
       " array([553.46020242])]"
      ]
     },
     "execution_count": 129,
     "metadata": {},
     "output_type": "execute_result"
    }
   ],
   "source": [
    "Y_avg[1000:1010]"
   ]
  },
  {
   "cell_type": "code",
   "execution_count": 130,
   "id": "b86b1ee7",
   "metadata": {},
   "outputs": [
    {
     "data": {
      "text/plain": [
       "[<matplotlib.lines.Line2D at 0x2a7ffb78bb0>]"
      ]
     },
     "execution_count": 130,
     "metadata": {},
     "output_type": "execute_result"
    },
    {
     "data": {
      "image/png": "[encoded data removed]",
      "text/plain": [
       "<Figure size 640x480 with 1 Axes>"
      ]
     },
     "metadata": {},
     "output_type": "display_data"
    }
   ],
   "source": [
    "plt.plot(Y_test[:])\n",
    "plt.plot(Y_avg[:])"
   ]
  },
  {
   "cell_type": "code",
   "execution_count": 131,
   "id": "a3263b1c",
   "metadata": {},
   "outputs": [
    {
     "data": {
      "text/plain": [
       "539.9985103302996"
      ]
     },
     "execution_count": 131,
     "metadata": {},
     "output_type": "execute_result"
    }
   ],
   "source": [
    "#finding mean squared error for predicted and original values in SIMPLE MOVING AVERAGE METHOD\n",
    "math.sqrt(mean_squared_error(Y_test,Y_avg))"
   ]
  },
  {
   "cell_type": "code",
   "execution_count": 132,
   "id": "c2092468",
   "metadata": {},
   "outputs": [],
   "source": [
    "#reshaping data into 3 dimesnios i.e.  (samples,timestep,1)\n",
    "X_train=X_train.reshape(X_train.shape[0],X_train.shape[1],1)\n",
    "X_test=X_test.reshape(X_test.shape[0],X_test.shape[1],1)"
   ]
  },
  {
   "cell_type": "code",
   "execution_count": 133,
   "id": "8ec8b82b",
   "metadata": {},
   "outputs": [],
   "source": [
    "#creating stacked LSTM model\n",
    "model=Sequential()\n",
    "model.add(LSTM(50,return_sequences=True,input_shape=(100,1)))#adding 1st layer of LSTM model\n",
    "model.add(LSTM(50,return_sequences=True))#adding 2nd LSTM layer\n",
    "model.add(LSTM(50))#adding 3rd LSTM layer\n",
    "model.add(Dense(1))#adding final output to LSTM model\n",
    "model.compile(loss='mean_squared_error',optimizer='adam')"
   ]
  },
  {
   "cell_type": "code",
   "execution_count": 134,
   "id": "16ea9272",
   "metadata": {},
   "outputs": [
    {
     "name": "stdout",
     "output_type": "stream",
     "text": [
      "Model: \"sequential_2\"\n",
      "_________________________________________________________________\n",
      " Layer (type)                Output Shape              Param #   \n",
      "=================================================================\n",
      " lstm_6 (LSTM)               (None, 100, 50)           10400     \n",
      "                                                                 \n",
      " lstm_7 (LSTM)               (None, 100, 50)           20200     \n",
      "                                                                 \n",
      " lstm_8 (LSTM)               (None, 50)                20200     \n",
      "                                                                 \n",
      " dense_2 (Dense)             (None, 1)                 51        \n",
      "                                                                 \n",
      "=================================================================\n",
      "Total params: 50,851\n",
      "Trainable params: 50,851\n",
      "Non-trainable params: 0\n",
      "_________________________________________________________________\n"
     ]
    }
   ],
   "source": [
    "model.summary()"
   ]
  },
  {
   "cell_type": "code",
   "execution_count": 135,
   "id": "a43b5bc0",
   "metadata": {},
   "outputs": [
    {
     "name": "stdout",
     "output_type": "stream",
     "text": [
      "Epoch 1/10\n",
      "30/30 [==============================] - 12s 238ms/step - loss: 0.0025 - val_loss: 0.0727\n",
      "Epoch 2/10\n",
      "30/30 [==============================] - 7s 219ms/step - loss: 3.2560e-04 - val_loss: 0.0012\n",
      "Epoch 3/10\n",
      "30/30 [==============================] - 8s 255ms/step - loss: 1.4010e-04 - val_loss: 0.0021\n",
      "Epoch 4/10\n",
      "30/30 [==============================] - 7s 232ms/step - loss: 1.3327e-04 - val_loss: 0.0013\n",
      "Epoch 5/10\n",
      "30/30 [==============================] - 6s 202ms/step - loss: 1.2748e-04 - val_loss: 0.0013\n",
      "Epoch 6/10\n",
      "30/30 [==============================] - 6s 204ms/step - loss: 1.2488e-04 - val_loss: 9.1231e-04\n",
      "Epoch 7/10\n",
      "30/30 [==============================] - 6s 204ms/step - loss: 1.2441e-04 - val_loss: 0.0017\n",
      "Epoch 8/10\n",
      "30/30 [==============================] - 6s 202ms/step - loss: 1.1030e-04 - val_loss: 0.0015\n",
      "Epoch 9/10\n",
      "30/30 [==============================] - 6s 205ms/step - loss: 1.0123e-04 - val_loss: 0.0012\n",
      "Epoch 10/10\n",
      "30/30 [==============================] - 6s 212ms/step - loss: 9.9784e-05 - val_loss: 0.0013\n"
     ]
    },
    {
     "data": {
      "text/plain": [
       "<keras.callbacks.History at 0x2a7853d7970>"
      ]
     },
     "execution_count": 135,
     "metadata": {},
     "output_type": "execute_result"
    }
   ],
   "source": [
    "#training LSTM model\n",
    "model.fit(X_train,Y_train,validation_data=(X_test,Y_test),epochs=10,batch_size=64,verbose=1)"
   ]
  },
  {
   "cell_type": "code",
   "execution_count": 136,
   "id": "d30198fa",
   "metadata": {},
   "outputs": [
    {
     "name": "stdout",
     "output_type": "stream",
     "text": [
      "54/54 [==============================] - 3s 36ms/step\n"
     ]
    },
    {
     "data": {
      "text/plain": [
       "array([[0.23864655],\n",
       "       [0.23988011],\n",
       "       [0.24111696],\n",
       "       ...,\n",
       "       [0.8925392 ],\n",
       "       [0.8926937 ],\n",
       "       [0.89186454]], dtype=float32)"
      ]
     },
     "execution_count": 136,
     "metadata": {},
     "output_type": "execute_result"
    }
   ],
   "source": [
    "#predicting values using LSTM model\n",
    "Y_predicted=model.predict(X_test)\n",
    "Y_predicted"
   ]
  },
  {
   "cell_type": "code",
   "execution_count": 137,
   "id": "fa847eac",
   "metadata": {},
   "outputs": [
    {
     "data": {
      "text/plain": [
       "0.03637902767706822"
      ]
     },
     "execution_count": 137,
     "metadata": {},
     "output_type": "execute_result"
    }
   ],
   "source": [
    "#finding mean squared error for predicted and original values\n",
    "math.sqrt(mean_squared_error(Y_test,Y_predicted))"
   ]
  },
  {
   "cell_type": "code",
   "execution_count": 138,
   "id": "caf39167",
   "metadata": {},
   "outputs": [
    {
     "data": {
      "text/plain": [
       "[<matplotlib.lines.Line2D at 0x2a78aec84c0>]"
      ]
     },
     "execution_count": 138,
     "metadata": {},
     "output_type": "execute_result"
    },
    {
     "data": {
      "image/png": "[encoded data removed]",
      "text/plain": [
       "<Figure size 640x480 with 1 Axes>"
      ]
     },
     "metadata": {},
     "output_type": "display_data"
    }
   ],
   "source": [
    "Y_avg=scale.fit_transform(np.array(Y_avg).reshape(-1,1))\n",
    "#plotting graphs\n",
    "plt.plot(Y_test)\n",
    "plt.plot(Y_predicted)\n",
    "plt.plot(Y_avg)"
   ]
  },
  {
   "cell_type": "code",
   "execution_count": null,
   "id": "33915ed9",
   "metadata": {},
   "outputs": [],
   "source": []
  },
  {
   "cell_type": "code",
   "execution_count": null,
   "id": "bbdee8e8",
   "metadata": {},
   "outputs": [],
   "source": []
  },
  {
   "cell_type": "code",
   "execution_count": null,
   "id": "efb9cab9",
   "metadata": {},
   "outputs": [],
   "source": []
  },
  {
   "cell_type": "code",
   "execution_count": null,
   "id": "6f1f8ae5",
   "metadata": {},
   "outputs": [],
   "source": []
  },
  {
   "cell_type": "code",
   "execution_count": null,
   "id": "3a36db8e",
   "metadata": {},
   "outputs": [],
   "source": []
  },
  {
   "cell_type": "code",
   "execution_count": null,
   "id": "e4d4afe2",
   "metadata": {},
   "outputs": [],
   "source": []
  },
  {
   "cell_type": "code",
   "execution_count": null,
   "id": "a880eab3",
   "metadata": {},
   "outputs": [],
   "source": []
  },
  {
   "cell_type": "code",
   "execution_count": null,
   "id": "5829d1a9",
   "metadata": {},
   "outputs": [],
   "source": []
  },
  {
   "cell_type": "code",
   "execution_count": null,
   "id": "8a12588e",
   "metadata": {},
   "outputs": [],
   "source": []
  },
  {
   "cell_type": "code",
   "execution_count": null,
   "id": "a09aba27",
   "metadata": {},
   "outputs": [],
   "source": []
  },
  {
   "cell_type": "code",
   "execution_count": null,
   "id": "3d36e4a8",
   "metadata": {},
   "outputs": [],
   "source": []
  },
  {
   "cell_type": "code",
   "execution_count": null,
   "id": "5de14fe2",
   "metadata": {},
   "outputs": [],
   "source": []
  },
  {
   "cell_type": "code",
   "execution_count": null,
   "id": "eddb3cd3",
   "metadata": {},
   "outputs": [],
   "source": []
  },
  {
   "cell_type": "code",
   "execution_count": null,
   "id": "467c3706",
   "metadata": {},
   "outputs": [],
   "source": []
  },
  {
   "cell_type": "code",
   "execution_count": null,
   "id": "55c55bb7",
   "metadata": {},
   "outputs": [],
   "source": []
  },
  {
   "cell_type": "code",
   "execution_count": null,
   "id": "b4fecadf",
   "metadata": {},
   "outputs": [],
   "source": []
  },
  {
   "cell_type": "code",
   "execution_count": null,
   "id": "622d7af7",
   "metadata": {},
   "outputs": [],
   "source": []
  },
  {
   "cell_type": "code",
   "execution_count": null,
   "id": "70074c2d",
   "metadata": {},
   "outputs": [],
   "source": []
  },
  {
   "cell_type": "code",
   "execution_count": null,
   "id": "4e26ac06",
   "metadata": {},
   "outputs": [],
   "source": []
  },
  {
   "cell_type": "code",
   "execution_count": null,
   "id": "ce858e5e",
   "metadata": {},
   "outputs": [],
   "source": []
  },
  {
   "cell_type": "code",
   "execution_count": null,
   "id": "85cfbea8",
   "metadata": {},
   "outputs": [],
   "source": []
  },
  {
   "cell_type": "code",
   "execution_count": null,
   "id": "f55d1d6b",
   "metadata": {},
   "outputs": [],
   "source": []
  },
  {
   "cell_type": "code",
   "execution_count": null,
   "id": "452fc3dc",
   "metadata": {},
   "outputs": [],
   "source": []
  },
  {
   "cell_type": "code",
   "execution_count": null,
   "id": "cc9ee62e",
   "metadata": {},
   "outputs": [],
   "source": []
  },
  {
   "cell_type": "code",
   "execution_count": null,
   "id": "1bcc00c5",
   "metadata": {},
   "outputs": [],
   "source": []
  },
  {
   "cell_type": "code",
   "execution_count": null,
   "id": "195344b4",
   "metadata": {},
   "outputs": [],
   "source": []
  },
  {
   "cell_type": "code",
   "execution_count": null,
   "id": "b33857ba",
   "metadata": {},
   "outputs": [],
   "source": []
  },
  {
   "cell_type": "code",
   "execution_count": null,
   "id": "eb40db20",
   "metadata": {},
   "outputs": [],
   "source": []
  },
  {
   "cell_type": "code",
   "execution_count": null,
   "id": "c0792f72",
   "metadata": {},
   "outputs": [],
   "source": []
  },
  {
   "cell_type": "code",
   "execution_count": null,
   "id": "77622251",
   "metadata": {},
   "outputs": [],
   "source": []
  },
  {
   "cell_type": "code",
   "execution_count": null,
   "id": "f0666a88",
   "metadata": {},
   "outputs": [],
   "source": []
  },
  {
   "cell_type": "code",
   "execution_count": null,
   "id": "180d4cb3",
   "metadata": {},
   "outputs": [],
   "source": []
  },
  {
   "cell_type": "code",
   "execution_count": null,
   "id": "2b290743",
   "metadata": {},
   "outputs": [],
   "source": []
  },
  {
   "cell_type": "code",
   "execution_count": null,
   "id": "113b2568",
   "metadata": {},
   "outputs": [],
   "source": []
  },
  {
   "cell_type": "code",
   "execution_count": null,
   "id": "4be95fc4",
   "metadata": {},
   "outputs": [],
   "source": []
  },
  {
   "cell_type": "code",
   "execution_count": null,
   "id": "b327fbed",
   "metadata": {},
   "outputs": [],
   "source": []
  },
  {
   "cell_type": "code",
   "execution_count": null,
   "id": "7847e89e",
   "metadata": {},
   "outputs": [],
   "source": []
  },
  {
   "cell_type": "code",
   "execution_count": null,
   "id": "43ccae4f",
   "metadata": {},
   "outputs": [],
   "source": []
  },
  {
   "cell_type": "code",
   "execution_count": null,
   "id": "4faa85a5",
   "metadata": {},
   "outputs": [],
   "source": []
  },
  {
   "cell_type": "code",
   "execution_count": null,
   "id": "f99f8b46",
   "metadata": {},
   "outputs": [],
   "source": []
  },
  {
   "cell_type": "code",
   "execution_count": null,
   "id": "4243a928",
   "metadata": {},
   "outputs": [],
   "source": []
  },
  {
   "cell_type": "code",
   "execution_count": null,
   "id": "0176d61b",
   "metadata": {},
   "outputs": [],
   "source": []
  },
  {
   "cell_type": "code",
   "execution_count": null,
   "id": "965e5ca6",
   "metadata": {},
   "outputs": [],
   "source": []
  }
 ],
 "metadata": {
  "kernelspec": {
   "display_name": "Python 3 (ipykernel)",
   "language": "python",
   "name": "python3"
  },
  "language_info": {
   "codemirror_mode": {
    "name": "ipython",
    "version": 3
   },
   "file_extension": ".py",
   "mimetype": "text/x-python",
   "name": "python",
   "nbconvert_exporter": "python",
   "pygments_lexer": "ipython3",
   "version": "3.10.6"
  }
 },
 "nbformat": 4,
 "nbformat_minor": 5
}
