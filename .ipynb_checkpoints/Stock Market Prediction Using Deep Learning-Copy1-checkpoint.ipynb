{
 "cells": [
  {
   "cell_type": "code",
   "execution_count": 52,
   "id": "c857ede2",
   "metadata": {},
   "outputs": [],
   "source": [
    "#importing all required libraries\n",
    "import pandas as pd\n",
    "import numpy as np\n",
    "import matplotlib.pyplot as plt\n",
    "from sklearn.preprocessing import MinMaxScaler\n",
    "from sklearn.metrics import mean_squared_error\n",
    "import math\n",
    "from tensorflow.keras.models import Sequential\n",
    "from tensorflow.keras.layers import Dense\n",
    "from tensorflow.keras.layers import LSTM\n",
    "import tensorflow as tf"
   ]
  },
  {
   "cell_type": "code",
   "execution_count": 18,
   "id": "090aa09f",
   "metadata": {},
   "outputs": [],
   "source": [
    "#reading data from csv file\n",
    "data=pd.read_csv('GOOG.csv')"
   ]
  },
  {
   "cell_type": "code",
   "execution_count": 19,
   "id": "6d8ba800",
   "metadata": {},
   "outputs": [],
   "source": [
    "#selecting close feature for prediction\n",
    "data=data.reset_index()['Close']"
   ]
  },
  {
   "cell_type": "code",
   "execution_count": 24,
   "id": "ec7a1817",
   "metadata": {},
   "outputs": [],
   "source": [
    "#converting data range from 0 to 1 as LSTM is data sensitive\n",
    "scale=MinMaxScaler(feature_range=(0,1))\n",
    "data=scale.fit_transform(np.array(data).reshape(-1,1))"
   ]
  },
  {
   "cell_type": "code",
   "execution_count": 29,
   "id": "840a43a8",
   "metadata": {},
   "outputs": [],
   "source": [
    "#train and test dataset splitting\n",
    "train_data=data[:2000]\n",
    "test_data=data[2000:]"
   ]
  },
  {
   "cell_type": "code",
   "execution_count": 31,
   "id": "ff18385d",
   "metadata": {},
   "outputs": [],
   "source": [
    "#function to create X,Y for train and test datasets\n",
    "def create_dataset(dataset,timestep):\n",
    "    X=[]\n",
    "    Y=[]\n",
    "    for i in range(len(dataset)-timestep-1):\n",
    "        X.append(dataset[i:i+timestep,0])\n",
    "        Y.append(dataset[i+timestep,0])\n",
    "    return np.array(X),np.array(Y)"
   ]
  },
  {
   "cell_type": "code",
   "execution_count": 32,
   "id": "fffb4c18",
   "metadata": {},
   "outputs": [],
   "source": [
    "#creating train and test data sets\n",
    "#taking timestep as 100\n",
    "X_train,Y_train=create_dataset(train_data,100)\n",
    "X_test,Y_test=create_dataset(test_data,100)"
   ]
  },
  {
   "cell_type": "code",
   "execution_count": 42,
   "id": "c2092468",
   "metadata": {},
   "outputs": [],
   "source": [
    "#reshaping data into 3 dimesnios i.e.  (samples,timestep,1)\n",
    "X_train=X_train.reshape(X_train.shape[0],X_train.shape[1],1)\n",
    "X_test=X_test.reshape(X_test.shape[0],X_test.shape[1],1)"
   ]
  },
  {
   "cell_type": "code",
   "execution_count": 44,
   "id": "8ec8b82b",
   "metadata": {},
   "outputs": [],
   "source": [
    "#creating stacked LSTM model\n",
    "model=Sequential()\n",
    "model.add(LSTM(50,return_sequences=True,input_shape=(100,1)))#adding 1st layer of LSTM model\n",
    "model.add(LSTM(50,return_sequences=True))#adding 2nd LSTM layer\n",
    "model.add(LSTM(50))#adding 3rd LSTM layer\n",
    "model.add(Dense(1))#adding final output to LSTM model\n",
    "model.compile(loss='mean_squared_error',optimizer='adam')"
   ]
  },
  {
   "cell_type": "code",
   "execution_count": 46,
   "id": "16ea9272",
   "metadata": {},
   "outputs": [
    {
     "name": "stdout",
     "output_type": "stream",
     "text": [
      "Model: \"sequential\"\n",
      "_________________________________________________________________\n",
      " Layer (type)                Output Shape              Param #   \n",
      "=================================================================\n",
      " lstm (LSTM)                 (None, 100, 50)           10400     \n",
      "                                                                 \n",
      " lstm_1 (LSTM)               (None, 100, 50)           20200     \n",
      "                                                                 \n",
      " lstm_2 (LSTM)               (None, 50)                20200     \n",
      "                                                                 \n",
      " dense (Dense)               (None, 1)                 51        \n",
      "                                                                 \n",
      "=================================================================\n",
      "Total params: 50,851\n",
      "Trainable params: 50,851\n",
      "Non-trainable params: 0\n",
      "_________________________________________________________________\n"
     ]
    }
   ],
   "source": [
    "model.summary()"
   ]
  },
  {
   "cell_type": "code",
   "execution_count": 47,
   "id": "a43b5bc0",
   "metadata": {},
   "outputs": [
    {
     "name": "stdout",
     "output_type": "stream",
     "text": [
      "Epoch 1/100\n",
      "30/30 [==============================] - 10s 188ms/step - loss: 0.0033 - val_loss: 0.0945\n",
      "Epoch 2/100\n",
      "30/30 [==============================] - 5s 155ms/step - loss: 4.4598e-04 - val_loss: 0.0064\n",
      "Epoch 3/100\n",
      "30/30 [==============================] - 5s 165ms/step - loss: 1.7207e-04 - val_loss: 0.0067\n",
      "Epoch 4/100\n",
      "30/30 [==============================] - 5s 156ms/step - loss: 1.5727e-04 - val_loss: 0.0049\n",
      "Epoch 5/100\n",
      "30/30 [==============================] - 5s 152ms/step - loss: 1.5459e-04 - val_loss: 0.0044\n",
      "Epoch 6/100\n",
      "30/30 [==============================] - 5s 152ms/step - loss: 1.4215e-04 - val_loss: 0.0049\n",
      "Epoch 7/100\n",
      "30/30 [==============================] - 5s 159ms/step - loss: 1.3532e-04 - val_loss: 0.0029\n",
      "Epoch 8/100\n",
      "30/30 [==============================] - 5s 164ms/step - loss: 1.3183e-04 - val_loss: 0.0037\n",
      "Epoch 9/100\n",
      "30/30 [==============================] - 5s 166ms/step - loss: 1.1789e-04 - val_loss: 0.0025\n",
      "Epoch 10/100\n",
      "30/30 [==============================] - 5s 167ms/step - loss: 1.1702e-04 - val_loss: 0.0026\n",
      "Epoch 11/100\n",
      "30/30 [==============================] - 5s 169ms/step - loss: 1.0707e-04 - val_loss: 0.0029\n",
      "Epoch 12/100\n",
      "30/30 [==============================] - 5s 173ms/step - loss: 1.0027e-04 - val_loss: 0.0022\n",
      "Epoch 13/100\n",
      "30/30 [==============================] - 5s 166ms/step - loss: 9.4747e-05 - val_loss: 0.0035\n",
      "Epoch 14/100\n",
      "30/30 [==============================] - 5s 166ms/step - loss: 9.3073e-05 - val_loss: 0.0059\n",
      "Epoch 15/100\n",
      "30/30 [==============================] - 5s 168ms/step - loss: 8.8764e-05 - val_loss: 0.0031\n",
      "Epoch 16/100\n",
      "30/30 [==============================] - 5s 163ms/step - loss: 8.7383e-05 - val_loss: 0.0054\n",
      "Epoch 17/100\n",
      "30/30 [==============================] - 5s 175ms/step - loss: 8.7964e-05 - val_loss: 0.0080\n",
      "Epoch 18/100\n",
      "30/30 [==============================] - 5s 168ms/step - loss: 9.1361e-05 - val_loss: 0.0050\n",
      "Epoch 19/100\n",
      "30/30 [==============================] - 5s 168ms/step - loss: 8.6856e-05 - val_loss: 0.0048\n",
      "Epoch 20/100\n",
      "30/30 [==============================] - 5s 168ms/step - loss: 8.9972e-05 - val_loss: 0.0066\n",
      "Epoch 21/100\n",
      "30/30 [==============================] - 5s 168ms/step - loss: 7.5487e-05 - val_loss: 0.0044\n",
      "Epoch 22/100\n",
      "30/30 [==============================] - 5s 166ms/step - loss: 7.8169e-05 - val_loss: 0.0042\n",
      "Epoch 23/100\n",
      "30/30 [==============================] - 5s 166ms/step - loss: 7.8531e-05 - val_loss: 0.0061\n",
      "Epoch 24/100\n",
      "30/30 [==============================] - 5s 171ms/step - loss: 7.3641e-05 - val_loss: 0.0051\n",
      "Epoch 25/100\n",
      "30/30 [==============================] - 5s 170ms/step - loss: 6.8167e-05 - val_loss: 0.0044\n",
      "Epoch 26/100\n",
      "30/30 [==============================] - 5s 165ms/step - loss: 6.5994e-05 - val_loss: 0.0032\n",
      "Epoch 27/100\n",
      "30/30 [==============================] - 5s 173ms/step - loss: 6.4643e-05 - val_loss: 0.0028\n",
      "Epoch 28/100\n",
      "30/30 [==============================] - 5s 172ms/step - loss: 7.0872e-05 - val_loss: 0.0037\n",
      "Epoch 29/100\n",
      "30/30 [==============================] - 5s 167ms/step - loss: 6.1174e-05 - val_loss: 0.0042\n",
      "Epoch 30/100\n",
      "30/30 [==============================] - 5s 165ms/step - loss: 7.1860e-05 - val_loss: 9.2616e-04\n",
      "Epoch 31/100\n",
      "30/30 [==============================] - 5s 165ms/step - loss: 7.7710e-05 - val_loss: 0.0027\n",
      "Epoch 32/100\n",
      "30/30 [==============================] - 5s 165ms/step - loss: 5.6499e-05 - val_loss: 0.0029\n",
      "Epoch 33/100\n",
      "30/30 [==============================] - 5s 180ms/step - loss: 5.9588e-05 - val_loss: 0.0026\n",
      "Epoch 34/100\n",
      "30/30 [==============================] - 5s 172ms/step - loss: 5.9686e-05 - val_loss: 0.0013\n",
      "Epoch 35/100\n",
      "30/30 [==============================] - 5s 179ms/step - loss: 5.9456e-05 - val_loss: 0.0016\n",
      "Epoch 36/100\n",
      "30/30 [==============================] - 5s 176ms/step - loss: 5.3827e-05 - val_loss: 0.0016\n",
      "Epoch 37/100\n",
      "30/30 [==============================] - 6s 185ms/step - loss: 5.5882e-05 - val_loss: 0.0013\n",
      "Epoch 38/100\n",
      "30/30 [==============================] - 5s 173ms/step - loss: 5.4233e-05 - val_loss: 0.0015\n",
      "Epoch 39/100\n",
      "30/30 [==============================] - 5s 174ms/step - loss: 5.8346e-05 - val_loss: 0.0015\n",
      "Epoch 40/100\n",
      "30/30 [==============================] - 5s 171ms/step - loss: 5.2159e-05 - val_loss: 0.0014\n",
      "Epoch 41/100\n",
      "30/30 [==============================] - 5s 167ms/step - loss: 4.8922e-05 - val_loss: 8.8614e-04\n",
      "Epoch 42/100\n",
      "30/30 [==============================] - 5s 169ms/step - loss: 4.7467e-05 - val_loss: 6.9068e-04\n",
      "Epoch 43/100\n",
      "30/30 [==============================] - 5s 169ms/step - loss: 4.7768e-05 - val_loss: 7.3301e-04\n",
      "Epoch 44/100\n",
      "30/30 [==============================] - 5s 174ms/step - loss: 5.0034e-05 - val_loss: 3.8769e-04\n",
      "Epoch 45/100\n",
      "30/30 [==============================] - 5s 171ms/step - loss: 4.7321e-05 - val_loss: 3.9980e-04\n",
      "Epoch 46/100\n",
      "30/30 [==============================] - 5s 171ms/step - loss: 4.5244e-05 - val_loss: 3.5772e-04\n",
      "Epoch 47/100\n",
      "30/30 [==============================] - 5s 169ms/step - loss: 4.6138e-05 - val_loss: 5.0902e-04\n",
      "Epoch 48/100\n",
      "30/30 [==============================] - 5s 178ms/step - loss: 4.5742e-05 - val_loss: 0.0012\n",
      "Epoch 49/100\n",
      "30/30 [==============================] - 5s 171ms/step - loss: 4.6846e-05 - val_loss: 4.0946e-04\n",
      "Epoch 50/100\n",
      "30/30 [==============================] - 5s 166ms/step - loss: 5.1356e-05 - val_loss: 5.0596e-04\n",
      "Epoch 51/100\n",
      "30/30 [==============================] - 5s 166ms/step - loss: 4.4982e-05 - val_loss: 0.0012\n",
      "Epoch 52/100\n",
      "30/30 [==============================] - 5s 168ms/step - loss: 4.3703e-05 - val_loss: 9.4728e-04\n",
      "Epoch 53/100\n",
      "30/30 [==============================] - 5s 171ms/step - loss: 4.0817e-05 - val_loss: 3.3002e-04\n",
      "Epoch 54/100\n",
      "30/30 [==============================] - 5s 169ms/step - loss: 3.9586e-05 - val_loss: 3.6760e-04\n",
      "Epoch 55/100\n",
      "30/30 [==============================] - 5s 168ms/step - loss: 3.9877e-05 - val_loss: 0.0011\n",
      "Epoch 56/100\n",
      "30/30 [==============================] - 5s 168ms/step - loss: 3.8081e-05 - val_loss: 2.3536e-04\n",
      "Epoch 57/100\n",
      "30/30 [==============================] - 5s 169ms/step - loss: 3.8268e-05 - val_loss: 5.2901e-04\n",
      "Epoch 58/100\n",
      "30/30 [==============================] - 5s 170ms/step - loss: 3.7175e-05 - val_loss: 2.8484e-04\n",
      "Epoch 59/100\n",
      "30/30 [==============================] - 5s 171ms/step - loss: 4.2319e-05 - val_loss: 2.1454e-04\n",
      "Epoch 60/100\n",
      "30/30 [==============================] - 5s 172ms/step - loss: 3.9420e-05 - val_loss: 4.2712e-04\n",
      "Epoch 61/100\n",
      "30/30 [==============================] - 5s 174ms/step - loss: 3.5922e-05 - val_loss: 2.2526e-04\n",
      "Epoch 62/100\n",
      "30/30 [==============================] - 5s 170ms/step - loss: 3.5700e-05 - val_loss: 3.8210e-04\n",
      "Epoch 63/100\n",
      "30/30 [==============================] - 5s 170ms/step - loss: 3.8504e-05 - val_loss: 4.6681e-04\n",
      "Epoch 64/100\n",
      "30/30 [==============================] - 5s 170ms/step - loss: 3.3784e-05 - val_loss: 4.6725e-04\n",
      "Epoch 65/100\n",
      "30/30 [==============================] - 5s 170ms/step - loss: 4.0727e-05 - val_loss: 2.0247e-04\n",
      "Epoch 66/100\n",
      "30/30 [==============================] - 5s 173ms/step - loss: 3.4811e-05 - val_loss: 1.8554e-04\n",
      "Epoch 67/100\n",
      "30/30 [==============================] - 5s 172ms/step - loss: 3.5245e-05 - val_loss: 3.3829e-04\n",
      "Epoch 68/100\n",
      "30/30 [==============================] - 5s 174ms/step - loss: 3.1748e-05 - val_loss: 3.2775e-04\n",
      "Epoch 69/100\n",
      "30/30 [==============================] - 5s 172ms/step - loss: 3.5766e-05 - val_loss: 1.7707e-04\n",
      "Epoch 70/100\n",
      "30/30 [==============================] - 5s 172ms/step - loss: 3.1504e-05 - val_loss: 2.2617e-04\n",
      "Epoch 71/100\n",
      "30/30 [==============================] - 5s 184ms/step - loss: 3.2487e-05 - val_loss: 1.9110e-04\n",
      "Epoch 72/100\n",
      "30/30 [==============================] - 5s 179ms/step - loss: 3.3284e-05 - val_loss: 2.1756e-04\n",
      "Epoch 73/100\n",
      "30/30 [==============================] - 5s 172ms/step - loss: 2.9998e-05 - val_loss: 1.7564e-04\n",
      "Epoch 74/100\n",
      "30/30 [==============================] - 5s 172ms/step - loss: 2.8667e-05 - val_loss: 3.0786e-04\n",
      "Epoch 75/100\n",
      "30/30 [==============================] - 5s 172ms/step - loss: 2.8193e-05 - val_loss: 2.5452e-04\n",
      "Epoch 76/100\n",
      "30/30 [==============================] - 5s 173ms/step - loss: 3.0459e-05 - val_loss: 1.6610e-04\n",
      "Epoch 77/100\n"
     ]
    },
    {
     "name": "stdout",
     "output_type": "stream",
     "text": [
      "30/30 [==============================] - 5s 166ms/step - loss: 3.2026e-05 - val_loss: 8.4013e-04\n",
      "Epoch 78/100\n",
      "30/30 [==============================] - 5s 163ms/step - loss: 3.1962e-05 - val_loss: 1.5778e-04\n",
      "Epoch 79/100\n",
      "30/30 [==============================] - 5s 164ms/step - loss: 3.2283e-05 - val_loss: 5.3732e-04\n",
      "Epoch 80/100\n",
      "30/30 [==============================] - 5s 166ms/step - loss: 3.5340e-05 - val_loss: 1.7666e-04\n",
      "Epoch 81/100\n",
      "30/30 [==============================] - 5s 166ms/step - loss: 2.9449e-05 - val_loss: 1.9768e-04\n",
      "Epoch 82/100\n",
      "30/30 [==============================] - 5s 168ms/step - loss: 2.7387e-05 - val_loss: 3.9234e-04\n",
      "Epoch 83/100\n",
      "30/30 [==============================] - 5s 171ms/step - loss: 2.6895e-05 - val_loss: 2.5424e-04\n",
      "Epoch 84/100\n",
      "30/30 [==============================] - 5s 170ms/step - loss: 2.6933e-05 - val_loss: 2.9372e-04\n",
      "Epoch 85/100\n",
      "30/30 [==============================] - 5s 168ms/step - loss: 2.7935e-05 - val_loss: 1.7217e-04\n",
      "Epoch 86/100\n",
      "30/30 [==============================] - 5s 168ms/step - loss: 2.6124e-05 - val_loss: 4.4496e-04\n",
      "Epoch 87/100\n",
      "30/30 [==============================] - 5s 176ms/step - loss: 2.6860e-05 - val_loss: 1.8173e-04\n",
      "Epoch 88/100\n",
      "30/30 [==============================] - 5s 169ms/step - loss: 2.4507e-05 - val_loss: 3.6916e-04\n",
      "Epoch 89/100\n",
      "30/30 [==============================] - 5s 169ms/step - loss: 2.4588e-05 - val_loss: 1.6766e-04\n",
      "Epoch 90/100\n",
      "30/30 [==============================] - 5s 169ms/step - loss: 2.4106e-05 - val_loss: 5.4000e-04\n",
      "Epoch 91/100\n",
      "30/30 [==============================] - 5s 172ms/step - loss: 2.3911e-05 - val_loss: 1.8799e-04\n",
      "Epoch 92/100\n",
      "30/30 [==============================] - 6s 186ms/step - loss: 2.5842e-05 - val_loss: 2.5968e-04\n",
      "Epoch 93/100\n",
      "30/30 [==============================] - 5s 176ms/step - loss: 2.3662e-05 - val_loss: 1.5236e-04\n",
      "Epoch 94/100\n",
      "30/30 [==============================] - 5s 175ms/step - loss: 2.1832e-05 - val_loss: 1.4178e-04\n",
      "Epoch 95/100\n",
      "30/30 [==============================] - 5s 177ms/step - loss: 2.3669e-05 - val_loss: 1.6866e-04\n",
      "Epoch 96/100\n",
      "30/30 [==============================] - 5s 174ms/step - loss: 2.6440e-05 - val_loss: 4.7968e-04\n",
      "Epoch 97/100\n",
      "30/30 [==============================] - 5s 172ms/step - loss: 2.2902e-05 - val_loss: 1.6787e-04\n",
      "Epoch 98/100\n",
      "30/30 [==============================] - 5s 173ms/step - loss: 2.1937e-05 - val_loss: 1.8581e-04\n",
      "Epoch 99/100\n",
      "30/30 [==============================] - 5s 173ms/step - loss: 2.1440e-05 - val_loss: 1.6157e-04\n",
      "Epoch 100/100\n",
      "30/30 [==============================] - 5s 178ms/step - loss: 2.2873e-05 - val_loss: 3.6774e-04\n"
     ]
    },
    {
     "data": {
      "text/plain": [
       "<keras.callbacks.History at 0x244db763820>"
      ]
     },
     "execution_count": 47,
     "metadata": {},
     "output_type": "execute_result"
    }
   ],
   "source": [
    "#training LSTM model\n",
    "model.fit(X_train,Y_train,validation_data=(X_test,Y_test),epochs=100,batch_size=64,verbose=1)"
   ]
  },
  {
   "cell_type": "code",
   "execution_count": 48,
   "id": "d30198fa",
   "metadata": {},
   "outputs": [
    {
     "name": "stdout",
     "output_type": "stream",
     "text": [
      "54/54 [==============================] - 2s 27ms/step\n"
     ]
    }
   ],
   "source": [
    "#predicting values using LSTM model\n",
    "Y_predicted=model.predict(X_test)"
   ]
  },
  {
   "cell_type": "code",
   "execution_count": 86,
   "id": "acd9426b",
   "metadata": {},
   "outputs": [],
   "source": [
    "#converting predicted data in range from 0 to 1\n",
    "#Y_predicted=scale.inverse_transform(Y_predicted)\n",
    "#Y_test=scale.inverse_transform(Y_test)\n",
    "Y_predicted=scale.fit_transform(np.array(Y_predicted).reshape(-1,1))"
   ]
  },
  {
   "cell_type": "code",
   "execution_count": 89,
   "id": "fa847eac",
   "metadata": {},
   "outputs": [
    {
     "data": {
      "text/plain": [
       "0.1515148857498005"
      ]
     },
     "execution_count": 89,
     "metadata": {},
     "output_type": "execute_result"
    }
   ],
   "source": [
    "#finding mean squared error for predicted and original values\n",
    "math.sqrt(mean_squared_error(Y_test,Y_predicted))"
   ]
  },
  {
   "cell_type": "code",
   "execution_count": 95,
   "id": "caf39167",
   "metadata": {},
   "outputs": [
    {
     "data": {
      "text/plain": [
       "[<matplotlib.lines.Line2D at 0x244eb69ea70>]"
      ]
     },
     "execution_count": 95,
     "metadata": {},
     "output_type": "execute_result"
    },
    {
     "data": {
      "image/png": "[encoded data removed]",
      "text/plain": [
       "<Figure size 640x480 with 1 Axes>"
      ]
     },
     "metadata": {},
     "output_type": "display_data"
    }
   ],
   "source": [
    "#plotting graphs\n",
    "plt.plot(Y_test)\n",
    "plt.plot(Y_predicted)"
   ]
  },
  {
   "cell_type": "code",
   "execution_count": null,
   "id": "33915ed9",
   "metadata": {},
   "outputs": [],
   "source": [
    "\n"
   ]
  },
  {
   "cell_type": "code",
   "execution_count": null,
   "id": "efb9cab9",
   "metadata": {},
   "outputs": [],
   "source": []
  },
  {
   "cell_type": "code",
   "execution_count": null,
   "id": "6f1f8ae5",
   "metadata": {},
   "outputs": [],
   "source": []
  },
  {
   "cell_type": "code",
   "execution_count": null,
   "id": "3a36db8e",
   "metadata": {},
   "outputs": [],
   "source": []
  },
  {
   "cell_type": "code",
   "execution_count": null,
   "id": "e4d4afe2",
   "metadata": {},
   "outputs": [],
   "source": []
  },
  {
   "cell_type": "code",
   "execution_count": null,
   "id": "a880eab3",
   "metadata": {},
   "outputs": [],
   "source": []
  },
  {
   "cell_type": "code",
   "execution_count": null,
   "id": "5829d1a9",
   "metadata": {},
   "outputs": [],
   "source": []
  },
  {
   "cell_type": "code",
   "execution_count": null,
   "id": "8a12588e",
   "metadata": {},
   "outputs": [],
   "source": []
  },
  {
   "cell_type": "code",
   "execution_count": null,
   "id": "a09aba27",
   "metadata": {},
   "outputs": [],
   "source": []
  },
  {
   "cell_type": "code",
   "execution_count": null,
   "id": "3d36e4a8",
   "metadata": {},
   "outputs": [],
   "source": []
  },
  {
   "cell_type": "code",
   "execution_count": null,
   "id": "5de14fe2",
   "metadata": {},
   "outputs": [],
   "source": []
  },
  {
   "cell_type": "code",
   "execution_count": null,
   "id": "eddb3cd3",
   "metadata": {},
   "outputs": [],
   "source": []
  },
  {
   "cell_type": "code",
   "execution_count": null,
   "id": "467c3706",
   "metadata": {},
   "outputs": [],
   "source": []
  },
  {
   "cell_type": "code",
   "execution_count": null,
   "id": "55c55bb7",
   "metadata": {},
   "outputs": [],
   "source": []
  },
  {
   "cell_type": "code",
   "execution_count": null,
   "id": "b4fecadf",
   "metadata": {},
   "outputs": [],
   "source": []
  },
  {
   "cell_type": "code",
   "execution_count": null,
   "id": "622d7af7",
   "metadata": {},
   "outputs": [],
   "source": []
  },
  {
   "cell_type": "code",
   "execution_count": null,
   "id": "70074c2d",
   "metadata": {},
   "outputs": [],
   "source": []
  },
  {
   "cell_type": "code",
   "execution_count": null,
   "id": "4e26ac06",
   "metadata": {},
   "outputs": [],
   "source": []
  },
  {
   "cell_type": "code",
   "execution_count": null,
   "id": "ce858e5e",
   "metadata": {},
   "outputs": [],
   "source": []
  },
  {
   "cell_type": "code",
   "execution_count": null,
   "id": "85cfbea8",
   "metadata": {},
   "outputs": [],
   "source": []
  },
  {
   "cell_type": "code",
   "execution_count": null,
   "id": "f55d1d6b",
   "metadata": {},
   "outputs": [],
   "source": []
  },
  {
   "cell_type": "code",
   "execution_count": null,
   "id": "452fc3dc",
   "metadata": {},
   "outputs": [],
   "source": []
  },
  {
   "cell_type": "code",
   "execution_count": null,
   "id": "cc9ee62e",
   "metadata": {},
   "outputs": [],
   "source": []
  },
  {
   "cell_type": "code",
   "execution_count": null,
   "id": "1bcc00c5",
   "metadata": {},
   "outputs": [],
   "source": []
  },
  {
   "cell_type": "code",
   "execution_count": null,
   "id": "195344b4",
   "metadata": {},
   "outputs": [],
   "source": []
  },
  {
   "cell_type": "code",
   "execution_count": null,
   "id": "b33857ba",
   "metadata": {},
   "outputs": [],
   "source": []
  },
  {
   "cell_type": "code",
   "execution_count": null,
   "id": "eb40db20",
   "metadata": {},
   "outputs": [],
   "source": []
  },
  {
   "cell_type": "code",
   "execution_count": null,
   "id": "c0792f72",
   "metadata": {},
   "outputs": [],
   "source": []
  },
  {
   "cell_type": "code",
   "execution_count": null,
   "id": "77622251",
   "metadata": {},
   "outputs": [],
   "source": []
  },
  {
   "cell_type": "code",
   "execution_count": null,
   "id": "f0666a88",
   "metadata": {},
   "outputs": [],
   "source": []
  },
  {
   "cell_type": "code",
   "execution_count": null,
   "id": "180d4cb3",
   "metadata": {},
   "outputs": [],
   "source": []
  },
  {
   "cell_type": "code",
   "execution_count": null,
   "id": "2b290743",
   "metadata": {},
   "outputs": [],
   "source": []
  },
  {
   "cell_type": "code",
   "execution_count": null,
   "id": "113b2568",
   "metadata": {},
   "outputs": [],
   "source": []
  },
  {
   "cell_type": "code",
   "execution_count": null,
   "id": "4be95fc4",
   "metadata": {},
   "outputs": [],
   "source": []
  },
  {
   "cell_type": "code",
   "execution_count": null,
   "id": "b327fbed",
   "metadata": {},
   "outputs": [],
   "source": []
  },
  {
   "cell_type": "code",
   "execution_count": null,
   "id": "7847e89e",
   "metadata": {},
   "outputs": [],
   "source": []
  },
  {
   "cell_type": "code",
   "execution_count": null,
   "id": "43ccae4f",
   "metadata": {},
   "outputs": [],
   "source": []
  },
  {
   "cell_type": "code",
   "execution_count": null,
   "id": "4faa85a5",
   "metadata": {},
   "outputs": [],
   "source": []
  },
  {
   "cell_type": "code",
   "execution_count": null,
   "id": "f99f8b46",
   "metadata": {},
   "outputs": [],
   "source": []
  },
  {
   "cell_type": "code",
   "execution_count": null,
   "id": "4243a928",
   "metadata": {},
   "outputs": [],
   "source": []
  },
  {
   "cell_type": "code",
   "execution_count": null,
   "id": "0176d61b",
   "metadata": {},
   "outputs": [],
   "source": []
  },
  {
   "cell_type": "code",
   "execution_count": null,
   "id": "965e5ca6",
   "metadata": {},
   "outputs": [],
   "source": []
  }
 ],
 "metadata": {
  "kernelspec": {
   "display_name": "Python 3 (ipykernel)",
   "language": "python",
   "name": "python3"
  },
  "language_info": {
   "codemirror_mode": {
    "name": "ipython",
    "version": 3
   },
   "file_extension": ".py",
   "mimetype": "text/x-python",
   "name": "python",
   "nbconvert_exporter": "python",
   "pygments_lexer": "ipython3",
   "version": "3.10.6"
  }
 },
 "nbformat": 4,
 "nbformat_minor": 5
}
