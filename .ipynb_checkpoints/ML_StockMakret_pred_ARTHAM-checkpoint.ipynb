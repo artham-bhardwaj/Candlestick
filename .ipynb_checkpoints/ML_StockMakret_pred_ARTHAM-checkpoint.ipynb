{
 "cells": [
  {
   "cell_type": "code",
   "execution_count": 2,
   "id": "c857ede2",
   "metadata": {},
   "outputs": [],
   "source": [
    "#importing all required libraries\n",
    "import pandas as pd\n",
    "import numpy as np\n",
    "import matplotlib.pyplot as plt\n",
    "from sklearn.preprocessing import MinMaxScaler\n",
    "from sklearn.metrics import mean_squared_error\n",
    "import math\n",
    "from tensorflow.keras.models import Sequential\n",
    "from tensorflow.keras.layers import Dense\n",
    "from tensorflow.keras.layers import LSTM\n",
    "import tensorflow as tf"
   ]
  },
  {
   "cell_type": "code",
   "execution_count": 3,
   "id": "090aa09f",
   "metadata": {},
   "outputs": [
    {
     "data": {
      "text/plain": [
       "3809"
      ]
     },
     "execution_count": 3,
     "metadata": {},
     "output_type": "execute_result"
    }
   ],
   "source": [
    "#reading data from csv file\n",
    "data=pd.read_csv('GOOG.csv')\n",
    "close=data['Close']\n",
    "len(data)"
   ]
  },
  {
   "cell_type": "code",
   "execution_count": 4,
   "id": "3165b06f",
   "metadata": {},
   "outputs": [
    {
     "data": {
      "text/html": [
       "<div>\n",
       "<style scoped>\n",
       "    .dataframe tbody tr th:only-of-type {\n",
       "        vertical-align: middle;\n",
       "    }\n",
       "\n",
       "    .dataframe tbody tr th {\n",
       "        vertical-align: top;\n",
       "    }\n",
       "\n",
       "    .dataframe thead th {\n",
       "        text-align: right;\n",
       "    }\n",
       "</style>\n",
       "<table border=\"1\" class=\"dataframe\">\n",
       "  <thead>\n",
       "    <tr style=\"text-align: right;\">\n",
       "      <th></th>\n",
       "      <th>Date</th>\n",
       "      <th>Open</th>\n",
       "      <th>High</th>\n",
       "      <th>Low</th>\n",
       "      <th>Close</th>\n",
       "      <th>Adj Close</th>\n",
       "      <th>Volume</th>\n",
       "    </tr>\n",
       "  </thead>\n",
       "  <tbody>\n",
       "    <tr>\n",
       "      <th>0</th>\n",
       "      <td>8/19/2004</td>\n",
       "      <td>49.813286</td>\n",
       "      <td>51.835709</td>\n",
       "      <td>47.800831</td>\n",
       "      <td>49.982655</td>\n",
       "      <td>49.982655</td>\n",
       "      <td>44871300</td>\n",
       "    </tr>\n",
       "    <tr>\n",
       "      <th>1</th>\n",
       "      <td>8/20/2004</td>\n",
       "      <td>50.316402</td>\n",
       "      <td>54.336334</td>\n",
       "      <td>50.062355</td>\n",
       "      <td>53.952770</td>\n",
       "      <td>53.952770</td>\n",
       "      <td>22942800</td>\n",
       "    </tr>\n",
       "    <tr>\n",
       "      <th>2</th>\n",
       "      <td>8/23/2004</td>\n",
       "      <td>55.168217</td>\n",
       "      <td>56.528118</td>\n",
       "      <td>54.321388</td>\n",
       "      <td>54.495735</td>\n",
       "      <td>54.495735</td>\n",
       "      <td>18342800</td>\n",
       "    </tr>\n",
       "    <tr>\n",
       "      <th>3</th>\n",
       "      <td>8/24/2004</td>\n",
       "      <td>55.412300</td>\n",
       "      <td>55.591629</td>\n",
       "      <td>51.591621</td>\n",
       "      <td>52.239193</td>\n",
       "      <td>52.239193</td>\n",
       "      <td>15319700</td>\n",
       "    </tr>\n",
       "    <tr>\n",
       "      <th>4</th>\n",
       "      <td>8/25/2004</td>\n",
       "      <td>52.284027</td>\n",
       "      <td>53.798351</td>\n",
       "      <td>51.746044</td>\n",
       "      <td>52.802086</td>\n",
       "      <td>52.802086</td>\n",
       "      <td>9232100</td>\n",
       "    </tr>\n",
       "  </tbody>\n",
       "</table>\n",
       "</div>"
      ],
      "text/plain": [
       "        Date       Open       High        Low      Close  Adj Close    Volume\n",
       "0  8/19/2004  49.813286  51.835709  47.800831  49.982655  49.982655  44871300\n",
       "1  8/20/2004  50.316402  54.336334  50.062355  53.952770  53.952770  22942800\n",
       "2  8/23/2004  55.168217  56.528118  54.321388  54.495735  54.495735  18342800\n",
       "3  8/24/2004  55.412300  55.591629  51.591621  52.239193  52.239193  15319700\n",
       "4  8/25/2004  52.284027  53.798351  51.746044  52.802086  52.802086   9232100"
      ]
     },
     "execution_count": 4,
     "metadata": {},
     "output_type": "execute_result"
    }
   ],
   "source": [
    "#plt.plot(date[:6],close[:6])\n",
    "data.head()"
   ]
  },
  {
   "cell_type": "code",
   "execution_count": 5,
   "id": "6d8ba800",
   "metadata": {},
   "outputs": [],
   "source": [
    "#selecting close feature for prediction\n",
    "data=data.reset_index()['Close']"
   ]
  },
  {
   "cell_type": "code",
   "execution_count": 6,
   "id": "ec7a1817",
   "metadata": {},
   "outputs": [
    {
     "data": {
      "text/plain": [
       "(3809, 1)"
      ]
     },
     "execution_count": 6,
     "metadata": {},
     "output_type": "execute_result"
    }
   ],
   "source": [
    "#converting data range from 0 to 1 as LSTM is data sensitive\n",
    "scale=MinMaxScaler(feature_range=(0,1))\n",
    "data=scale.fit_transform(np.array(data).reshape(-1,1))\n",
    "data.shape"
   ]
  },
  {
   "cell_type": "code",
   "execution_count": 7,
   "id": "840a43a8",
   "metadata": {},
   "outputs": [],
   "source": [
    "#train and test dataset splitting\n",
    "train_data=data[:2000]\n",
    "test_data=data[2000:]"
   ]
  },
  {
   "cell_type": "code",
   "execution_count": 8,
   "id": "ff18385d",
   "metadata": {},
   "outputs": [],
   "source": [
    "#function to create X,Y for train and test datasets\n",
    "def create_dataset(dataset,timestep):\n",
    "    X=[]\n",
    "    Y=[]\n",
    "    for i in range(len(dataset)-timestep-1):\n",
    "        X.append(dataset[i:i+timestep,0])\n",
    "        Y.append(dataset[i+timestep,0])\n",
    "    return np.array(X),np.array(Y)"
   ]
  },
  {
   "cell_type": "code",
   "execution_count": 9,
   "id": "fffb4c18",
   "metadata": {},
   "outputs": [
    {
     "data": {
      "text/plain": [
       "1809"
      ]
     },
     "execution_count": 9,
     "metadata": {},
     "output_type": "execute_result"
    }
   ],
   "source": [
    "#creating train and test data sets\n",
    "#taking timestep as 100\n",
    "X_train,Y_train=create_dataset(train_data,100)\n",
    "X_test,Y_test=create_dataset(test_data,100)\n",
    "len(test_data)"
   ]
  },
  {
   "cell_type": "code",
   "execution_count": 10,
   "id": "acafa814",
   "metadata": {},
   "outputs": [],
   "source": [
    "#Simple Moving Average technique\n",
    "\n",
    "Y_avg=[]\n",
    "sum=0\n",
    "for i in range(len(Y_test)):\n",
    "    for j in range(len(test_data)-100-1):\n",
    "        sum=sum+test_data[j]\n",
    "    avg=sum/(len(test_data)-100-1)\n",
    "    Y_avg.append(avg)\n",
    "    "
   ]
  },
  {
   "cell_type": "code",
   "execution_count": 11,
   "id": "db981468",
   "metadata": {},
   "outputs": [
    {
     "data": {
      "text/plain": [
       "array([0.59742656, 0.59741044, 0.60292843, 0.60371213, 0.60434227,\n",
       "       0.59864651, 0.60139343, 0.60318696, 0.60168426, 0.59901817])"
      ]
     },
     "execution_count": 11,
     "metadata": {},
     "output_type": "execute_result"
    }
   ],
   "source": [
    "Y_test[1000:1010]"
   ]
  },
  {
   "cell_type": "code",
   "execution_count": 12,
   "id": "bcf36ef7",
   "metadata": {},
   "outputs": [
    {
     "data": {
      "text/plain": [
       "array([[0.58582308],\n",
       "       [0.5864089 ],\n",
       "       [0.58699473],\n",
       "       [0.58758055],\n",
       "       [0.58816637],\n",
       "       [0.5887522 ],\n",
       "       [0.58933802],\n",
       "       [0.58992384],\n",
       "       [0.59050967],\n",
       "       [0.59109549]])"
      ]
     },
     "execution_count": 12,
     "metadata": {},
     "output_type": "execute_result"
    }
   ],
   "source": [
    "Y_avg=scale.fit_transform(np.array(Y_avg).reshape(-1,1))\n",
    "Y_avg[1000:1010]"
   ]
  },
  {
   "cell_type": "code",
   "execution_count": 13,
   "id": "a1e0de68",
   "metadata": {},
   "outputs": [
    {
     "data": {
      "text/plain": [
       "[<matplotlib.lines.Line2D at 0x1b65b9fdcc0>]"
      ]
     },
     "execution_count": 13,
     "metadata": {},
     "output_type": "execute_result"
    },
    {
     "data": {
      "image/png": "[encoded data removed]",
      "text/plain": [
       "<Figure size 640x480 with 1 Axes>"
      ]
     },
     "metadata": {},
     "output_type": "display_data"
    }
   ],
   "source": [
    "plt.plot(Y_test[:])\n",
    "plt.plot(Y_avg[:])"
   ]
  },
  {
   "cell_type": "code",
   "execution_count": 14,
   "id": "5f8fe7d1",
   "metadata": {},
   "outputs": [
    {
     "data": {
      "text/plain": [
       "0.131750119949005"
      ]
     },
     "execution_count": 14,
     "metadata": {},
     "output_type": "execute_result"
    }
   ],
   "source": [
    "#finding mean squared error for predicted and original values in SIMPLE MOVING AVERAGE METHOD\n",
    "math.sqrt(mean_squared_error(Y_test,Y_avg))"
   ]
  },
  {
   "cell_type": "code",
   "execution_count": 15,
   "id": "c2092468",
   "metadata": {},
   "outputs": [],
   "source": [
    "#reshaping data into 3 dimesnios i.e.  (samples,timestep,1)\n",
    "X_train=X_train.reshape(X_train.shape[0],X_train.shape[1],1)\n",
    "X_test=X_test.reshape(X_test.shape[0],X_test.shape[1],1)"
   ]
  },
  {
   "cell_type": "code",
   "execution_count": 16,
   "id": "8ec8b82b",
   "metadata": {},
   "outputs": [],
   "source": [
    "#creating stacked LSTM model\n",
    "model=Sequential()\n",
    "model.add(LSTM(50,return_sequences=True,input_shape=(100,1)))#adding 1st layer of LSTM model\n",
    "model.add(LSTM(50,return_sequences=True))#adding 2nd LSTM layer\n",
    "model.add(LSTM(50))#adding 3rd LSTM layer\n",
    "model.add(Dense(1))#adding final output layer (with single neuron) to LSTM model\n",
    "model.compile(loss='mean_squared_error',optimizer='adam')#adaptive moment estimation"
   ]
  },
  {
   "cell_type": "code",
   "execution_count": 17,
   "id": "16ea9272",
   "metadata": {},
   "outputs": [
    {
     "name": "stdout",
     "output_type": "stream",
     "text": [
      "Model: \"sequential\"\n",
      "_________________________________________________________________\n",
      " Layer (type)                Output Shape              Param #   \n",
      "=================================================================\n",
      " lstm (LSTM)                 (None, 100, 50)           10400     \n",
      "                                                                 \n",
      " lstm_1 (LSTM)               (None, 100, 50)           20200     \n",
      "                                                                 \n",
      " lstm_2 (LSTM)               (None, 50)                20200     \n",
      "                                                                 \n",
      " dense (Dense)               (None, 1)                 51        \n",
      "                                                                 \n",
      "=================================================================\n",
      "Total params: 50,851\n",
      "Trainable params: 50,851\n",
      "Non-trainable params: 0\n",
      "_________________________________________________________________\n"
     ]
    }
   ],
   "source": [
    "model.summary()"
   ]
  },
  {
   "cell_type": "code",
   "execution_count": 18,
   "id": "a43b5bc0",
   "metadata": {},
   "outputs": [
    {
     "name": "stdout",
     "output_type": "stream",
     "text": [
      "Epoch 1/10\n",
      "30/30 [==============================] - 23s 430ms/step - loss: 0.0035 - val_loss: 0.0683\n",
      "Epoch 2/10\n",
      "30/30 [==============================] - 12s 395ms/step - loss: 3.9585e-04 - val_loss: 0.0056\n",
      "Epoch 3/10\n",
      "30/30 [==============================] - 9s 289ms/step - loss: 1.5431e-04 - val_loss: 0.0029\n",
      "Epoch 4/10\n",
      "30/30 [==============================] - 9s 293ms/step - loss: 1.4128e-04 - val_loss: 0.0024\n",
      "Epoch 5/10\n",
      "30/30 [==============================] - 9s 293ms/step - loss: 1.3425e-04 - val_loss: 0.0032\n",
      "Epoch 6/10\n",
      "30/30 [==============================] - 7s 236ms/step - loss: 1.2900e-04 - val_loss: 0.0026\n",
      "Epoch 7/10\n",
      "30/30 [==============================] - 7s 242ms/step - loss: 1.3163e-04 - val_loss: 0.0028\n",
      "Epoch 8/10\n",
      "30/30 [==============================] - 8s 273ms/step - loss: 1.1987e-04 - val_loss: 0.0031\n",
      "Epoch 9/10\n",
      "30/30 [==============================] - 8s 262ms/step - loss: 1.1829e-04 - val_loss: 0.0019\n",
      "Epoch 10/10\n",
      "30/30 [==============================] - 7s 232ms/step - loss: 1.1407e-04 - val_loss: 0.0021\n"
     ]
    },
    {
     "data": {
      "text/plain": [
       "<keras.callbacks.History at 0x1b65f2634c0>"
      ]
     },
     "execution_count": 18,
     "metadata": {},
     "output_type": "execute_result"
    }
   ],
   "source": [
    "#training LSTM model\n",
    "model.fit(X_train,Y_train,validation_data=(X_test,Y_test),epochs=10,batch_size=64,verbose=1)"
   ]
  },
  {
   "cell_type": "code",
   "execution_count": 19,
   "id": "d30198fa",
   "metadata": {},
   "outputs": [
    {
     "name": "stdout",
     "output_type": "stream",
     "text": [
      "54/54 [==============================] - 3s 42ms/step\n"
     ]
    },
    {
     "data": {
      "text/plain": [
       "array([[0.2387825 ],\n",
       "       [0.23993154],\n",
       "       [0.24108289],\n",
       "       ...,\n",
       "       [0.86459386],\n",
       "       [0.86499476],\n",
       "       [0.8646268 ]], dtype=float32)"
      ]
     },
     "execution_count": 19,
     "metadata": {},
     "output_type": "execute_result"
    }
   ],
   "source": [
    "#predicting values using LSTM model\n",
    "Y_predicted=model.predict(X_test)\n",
    "Y_predicted"
   ]
  },
  {
   "cell_type": "code",
   "execution_count": 20,
   "id": "fa847eac",
   "metadata": {},
   "outputs": [
    {
     "data": {
      "text/plain": [
       "0.04564508826462957"
      ]
     },
     "execution_count": 20,
     "metadata": {},
     "output_type": "execute_result"
    }
   ],
   "source": [
    "#finding mean squared error for predicted and original values\n",
    "math.sqrt(mean_squared_error(Y_test,Y_predicted))"
   ]
  },
  {
   "cell_type": "code",
   "execution_count": 22,
   "id": "caf39167",
   "metadata": {},
   "outputs": [
    {
     "data": {
      "text/plain": [
       "Text(0, 0.5, 'CLOSE VALUES')"
      ]
     },
     "execution_count": 22,
     "metadata": {},
     "output_type": "execute_result"
    },
    {
     "data": {
      "image/png": "[encoded data removed]",
      "text/plain": [
       "<Figure size 640x480 with 1 Axes>"
      ]
     },
     "metadata": {},
     "output_type": "display_data"
    }
   ],
   "source": [
    "#plotting graphs\n",
    "plt.plot(Y_test)\n",
    "plt.plot(Y_predicted)\n",
    "plt.plot(Y_avg)\n",
    "plt.xlabel(\"DATE\")\n",
    "plt.ylabel(\"CLOSE VALUES\")"
   ]
  },
  {
   "cell_type": "code",
   "execution_count": null,
   "id": "264eb2f8",
   "metadata": {},
   "outputs": [],
   "source": []
  }
 ],
 "metadata": {
  "kernelspec": {
   "display_name": "Python 3 (ipykernel)",
   "language": "python",
   "name": "python3"
  },
  "language_info": {
   "codemirror_mode": {
    "name": "ipython",
    "version": 3
   },
   "file_extension": ".py",
   "mimetype": "text/x-python",
   "name": "python",
   "nbconvert_exporter": "python",
   "pygments_lexer": "ipython3",
   "version": "3.10.6"
  }
 },
 "nbformat": 4,
 "nbformat_minor": 5
}
