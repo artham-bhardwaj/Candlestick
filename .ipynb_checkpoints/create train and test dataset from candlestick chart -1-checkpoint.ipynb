{
 "cells": [
  {
   "cell_type": "code",
   "execution_count": 58,
   "id": "179a2930",
   "metadata": {},
   "outputs": [],
   "source": [
    "import pandas as pd\n",
    "import plotly.graph_objects as go"
   ]
  },
  {
   "cell_type": "code",
   "execution_count": 64,
   "id": "c289dd48",
   "metadata": {},
   "outputs": [],
   "source": [
    "#read data\n",
    "df=pd.read_csv('PNB.NS.csv')"
   ]
  },
  {
   "cell_type": "code",
   "execution_count": 65,
   "id": "08b87815",
   "metadata": {},
   "outputs": [],
   "source": [
    "train_size=int(0.7*len(df))\n",
    "test_size=int(0.3*len(df))"
   ]
  },
  {
   "cell_type": "code",
   "execution_count": 66,
   "id": "1c414df9",
   "metadata": {},
   "outputs": [],
   "source": [
    "training_data=df.iloc[0:train_size]\n",
    "testing_data=df.iloc[train_size:]"
   ]
  },
  {
   "cell_type": "code",
   "execution_count": 67,
   "id": "1f22ed4e",
   "metadata": {},
   "outputs": [],
   "source": [
    "# iterate over the training data and create a 10-day window for each row\n",
    "for i in range(10, train_size, 10):\n",
    "    # get the 10-day window of data\n",
    "    window = training_data.iloc[i-10:i]\n",
    "    \n",
    "    # create the candlestick chart\n",
    "    fig = go.Figure(data=[go.Candlestick(x=window['Date'],\n",
    "                                          open=window['Open'],\n",
    "                                          high=window['High'],\n",
    "                                          low=window['Low'],\n",
    "                                          close=window['Close'])])\n",
    "    \n",
    "    # save the candlestick chart as an image file\n",
    "    fig.write_image(F\"C:/Users/artha/Desktop/Candlestick chart project/train_set/candlestick_{i}.png\")"
   ]
  },
  {
   "cell_type": "code",
   "execution_count": 68,
   "id": "593c1fc2",
   "metadata": {},
   "outputs": [],
   "source": [
    "# iterate over the testing data and create a 10-day window for each row\n",
    "for i in range(10, test_size, 10):\n",
    "    # get the 10-day window of data\n",
    "    window = testing_data.iloc[i-10:i]\n",
    "    \n",
    "    # create the candlestick chart\n",
    "    fig = go.Figure(data=[go.Candlestick(x=window['Date'],\n",
    "                                          open=window['Open'],\n",
    "                                          high=window['High'],\n",
    "                                          low=window['Low'],\n",
    "                                          close=window['Close'])])\n",
    "    \n",
    "    # save the candlestick chart as an image file\n",
    "    fig.write_image(F\"C:/Users/artha/Desktop/Candlestick chart project/test_set/candlestick_{i}.png\")"
   ]
  },
  {
   "cell_type": "code",
   "execution_count": null,
   "id": "0f9069c4",
   "metadata": {},
   "outputs": [],
   "source": []
  },
  {
   "cell_type": "code",
   "execution_count": null,
   "id": "ddbd312e",
   "metadata": {},
   "outputs": [],
   "source": []
  }
 ],
 "metadata": {
  "kernelspec": {
   "display_name": "Python 3 (ipykernel)",
   "language": "python",
   "name": "python3"
  },
  "language_info": {
   "codemirror_mode": {
    "name": "ipython",
    "version": 3
   },
   "file_extension": ".py",
   "mimetype": "text/x-python",
   "name": "python",
   "nbconvert_exporter": "python",
   "pygments_lexer": "ipython3",
   "version": "3.10.6"
  }
 },
 "nbformat": 4,
 "nbformat_minor": 5
}
