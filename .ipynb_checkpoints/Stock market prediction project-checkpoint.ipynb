{
 "cells": [
  {
   "cell_type": "code",
   "execution_count": 8,
   "id": "94b9cda8",
   "metadata": {},
   "outputs": [],
   "source": [
    "import pandas as pd"
   ]
  },
  {
   "cell_type": "code",
   "execution_count": 9,
   "id": "4fdd9d70",
   "metadata": {},
   "outputs": [],
   "source": [
    "import matplotlib.pyplot as plt"
   ]
  },
  {
   "cell_type": "code",
   "execution_count": 10,
   "id": "1a6889d7",
   "metadata": {},
   "outputs": [],
   "source": [
    "import numpy as np"
   ]
  },
  {
   "cell_type": "code",
   "execution_count": 11,
   "id": "038fbd6b",
   "metadata": {},
   "outputs": [],
   "source": [
    "df=pd.read_csv('data.csv')"
   ]
  },
  {
   "cell_type": "code",
   "execution_count": 12,
   "id": "c5eac597",
   "metadata": {},
   "outputs": [
    {
     "data": {
      "text/html": [
       "<div>\n",
       "<style scoped>\n",
       "    .dataframe tbody tr th:only-of-type {\n",
       "        vertical-align: middle;\n",
       "    }\n",
       "\n",
       "    .dataframe tbody tr th {\n",
       "        vertical-align: top;\n",
       "    }\n",
       "\n",
       "    .dataframe thead th {\n",
       "        text-align: right;\n",
       "    }\n",
       "</style>\n",
       "<table border=\"1\" class=\"dataframe\">\n",
       "  <thead>\n",
       "    <tr style=\"text-align: right;\">\n",
       "      <th></th>\n",
       "      <th>SYMBOL</th>\n",
       "      <th>SERIES</th>\n",
       "      <th>DATE1</th>\n",
       "      <th>PREV_CLOSE</th>\n",
       "      <th>OPEN_PRICE</th>\n",
       "      <th>HIGH_PRICE</th>\n",
       "      <th>LOW_PRICE</th>\n",
       "      <th>LAST_PRICE</th>\n",
       "      <th>CLOSE_PRICE</th>\n",
       "      <th>AVG_PRICE</th>\n",
       "      <th>TTL_TRD_QNTY</th>\n",
       "      <th>TURNOVER_LACS</th>\n",
       "      <th>NO_OF_TRADES</th>\n",
       "      <th>DELIV_QTY</th>\n",
       "      <th>DELIV_PER</th>\n",
       "    </tr>\n",
       "  </thead>\n",
       "  <tbody>\n",
       "    <tr>\n",
       "      <th>0</th>\n",
       "      <td>20MICRONS</td>\n",
       "      <td>EQ</td>\n",
       "      <td>23-Jan-2023</td>\n",
       "      <td>89.90</td>\n",
       "      <td>90.00</td>\n",
       "      <td>90.15</td>\n",
       "      <td>88.35</td>\n",
       "      <td>88.50</td>\n",
       "      <td>88.85</td>\n",
       "      <td>89.03</td>\n",
       "      <td>73249</td>\n",
       "      <td>65.22</td>\n",
       "      <td>1139</td>\n",
       "      <td>40918</td>\n",
       "      <td>55.86</td>\n",
       "    </tr>\n",
       "    <tr>\n",
       "      <th>1</th>\n",
       "      <td>21STCENMGM</td>\n",
       "      <td>EQ</td>\n",
       "      <td>23-Jan-2023</td>\n",
       "      <td>21.95</td>\n",
       "      <td>22.35</td>\n",
       "      <td>22.35</td>\n",
       "      <td>21.55</td>\n",
       "      <td>21.55</td>\n",
       "      <td>21.85</td>\n",
       "      <td>21.90</td>\n",
       "      <td>6833</td>\n",
       "      <td>1.50</td>\n",
       "      <td>71</td>\n",
       "      <td>2483</td>\n",
       "      <td>36.34</td>\n",
       "    </tr>\n",
       "    <tr>\n",
       "      <th>2</th>\n",
       "      <td>360ONE</td>\n",
       "      <td>EQ</td>\n",
       "      <td>23-Jan-2023</td>\n",
       "      <td>1922.25</td>\n",
       "      <td>1950.00</td>\n",
       "      <td>1960.00</td>\n",
       "      <td>1911.00</td>\n",
       "      <td>1950.00</td>\n",
       "      <td>1950.10</td>\n",
       "      <td>1946.40</td>\n",
       "      <td>73219</td>\n",
       "      <td>1425.14</td>\n",
       "      <td>6733</td>\n",
       "      <td>37553</td>\n",
       "      <td>51.29</td>\n",
       "    </tr>\n",
       "    <tr>\n",
       "      <th>3</th>\n",
       "      <td>3IINFOLTD</td>\n",
       "      <td>EQ</td>\n",
       "      <td>23-Jan-2023</td>\n",
       "      <td>39.95</td>\n",
       "      <td>40.00</td>\n",
       "      <td>40.25</td>\n",
       "      <td>38.25</td>\n",
       "      <td>38.70</td>\n",
       "      <td>38.65</td>\n",
       "      <td>39.00</td>\n",
       "      <td>742270</td>\n",
       "      <td>289.51</td>\n",
       "      <td>3214</td>\n",
       "      <td>603056</td>\n",
       "      <td>81.24</td>\n",
       "    </tr>\n",
       "    <tr>\n",
       "      <th>4</th>\n",
       "      <td>3MINDIA</td>\n",
       "      <td>EQ</td>\n",
       "      <td>23-Jan-2023</td>\n",
       "      <td>22707.75</td>\n",
       "      <td>22707.75</td>\n",
       "      <td>22795.00</td>\n",
       "      <td>22529.95</td>\n",
       "      <td>22731.00</td>\n",
       "      <td>22756.10</td>\n",
       "      <td>22603.19</td>\n",
       "      <td>2928</td>\n",
       "      <td>661.82</td>\n",
       "      <td>801</td>\n",
       "      <td>2325</td>\n",
       "      <td>79.41</td>\n",
       "    </tr>\n",
       "  </tbody>\n",
       "</table>\n",
       "</div>"
      ],
      "text/plain": [
       "       SYMBOL  SERIES         DATE1   PREV_CLOSE   OPEN_PRICE   HIGH_PRICE  \\\n",
       "0   20MICRONS      EQ   23-Jan-2023        89.90        90.00        90.15   \n",
       "1  21STCENMGM      EQ   23-Jan-2023        21.95        22.35        22.35   \n",
       "2      360ONE      EQ   23-Jan-2023      1922.25      1950.00      1960.00   \n",
       "3   3IINFOLTD      EQ   23-Jan-2023        39.95        40.00        40.25   \n",
       "4     3MINDIA      EQ   23-Jan-2023     22707.75     22707.75     22795.00   \n",
       "\n",
       "    LOW_PRICE   LAST_PRICE   CLOSE_PRICE   AVG_PRICE   TTL_TRD_QNTY  \\\n",
       "0       88.35        88.50         88.85       89.03          73249   \n",
       "1       21.55        21.55         21.85       21.90           6833   \n",
       "2     1911.00      1950.00       1950.10     1946.40          73219   \n",
       "3       38.25        38.70         38.65       39.00         742270   \n",
       "4    22529.95     22731.00      22756.10    22603.19           2928   \n",
       "\n",
       "    TURNOVER_LACS   NO_OF_TRADES  DELIV_QTY  DELIV_PER  \n",
       "0           65.22           1139      40918      55.86  \n",
       "1            1.50             71       2483      36.34  \n",
       "2         1425.14           6733      37553      51.29  \n",
       "3          289.51           3214     603056      81.24  \n",
       "4          661.82            801       2325      79.41  "
      ]
     },
     "execution_count": 12,
     "metadata": {},
     "output_type": "execute_result"
    }
   ],
   "source": [
    "df.head()"
   ]
  },
  {
   "cell_type": "code",
   "execution_count": 13,
   "id": "29ba6f58",
   "metadata": {},
   "outputs": [
    {
     "data": {
      "text/html": [
       "<div>\n",
       "<style scoped>\n",
       "    .dataframe tbody tr th:only-of-type {\n",
       "        vertical-align: middle;\n",
       "    }\n",
       "\n",
       "    .dataframe tbody tr th {\n",
       "        vertical-align: top;\n",
       "    }\n",
       "\n",
       "    .dataframe thead th {\n",
       "        text-align: right;\n",
       "    }\n",
       "</style>\n",
       "<table border=\"1\" class=\"dataframe\">\n",
       "  <thead>\n",
       "    <tr style=\"text-align: right;\">\n",
       "      <th></th>\n",
       "      <th>SYMBOL</th>\n",
       "      <th>SERIES</th>\n",
       "      <th>DATE1</th>\n",
       "      <th>PREV_CLOSE</th>\n",
       "      <th>OPEN_PRICE</th>\n",
       "      <th>HIGH_PRICE</th>\n",
       "      <th>LOW_PRICE</th>\n",
       "      <th>LAST_PRICE</th>\n",
       "      <th>CLOSE_PRICE</th>\n",
       "      <th>AVG_PRICE</th>\n",
       "      <th>TTL_TRD_QNTY</th>\n",
       "      <th>TURNOVER_LACS</th>\n",
       "      <th>NO_OF_TRADES</th>\n",
       "      <th>DELIV_QTY</th>\n",
       "      <th>DELIV_PER</th>\n",
       "    </tr>\n",
       "  </thead>\n",
       "  <tbody>\n",
       "    <tr>\n",
       "      <th>2360</th>\n",
       "      <td>ZOTA</td>\n",
       "      <td>EQ</td>\n",
       "      <td>23-Jan-2023</td>\n",
       "      <td>368.80</td>\n",
       "      <td>372.50</td>\n",
       "      <td>372.50</td>\n",
       "      <td>357.00</td>\n",
       "      <td>362.00</td>\n",
       "      <td>362.00</td>\n",
       "      <td>361.96</td>\n",
       "      <td>43960</td>\n",
       "      <td>159.12</td>\n",
       "      <td>3876</td>\n",
       "      <td>14430</td>\n",
       "      <td>32.83</td>\n",
       "    </tr>\n",
       "    <tr>\n",
       "      <th>2361</th>\n",
       "      <td>ZUARI</td>\n",
       "      <td>EQ</td>\n",
       "      <td>23-Jan-2023</td>\n",
       "      <td>150.25</td>\n",
       "      <td>151.50</td>\n",
       "      <td>151.75</td>\n",
       "      <td>147.40</td>\n",
       "      <td>148.25</td>\n",
       "      <td>147.80</td>\n",
       "      <td>149.26</td>\n",
       "      <td>44452</td>\n",
       "      <td>66.35</td>\n",
       "      <td>1665</td>\n",
       "      <td>21419</td>\n",
       "      <td>48.18</td>\n",
       "    </tr>\n",
       "    <tr>\n",
       "      <th>2362</th>\n",
       "      <td>ZUARIIND</td>\n",
       "      <td>EQ</td>\n",
       "      <td>23-Jan-2023</td>\n",
       "      <td>140.50</td>\n",
       "      <td>141.10</td>\n",
       "      <td>142.45</td>\n",
       "      <td>136.80</td>\n",
       "      <td>137.00</td>\n",
       "      <td>137.85</td>\n",
       "      <td>139.24</td>\n",
       "      <td>46494</td>\n",
       "      <td>64.74</td>\n",
       "      <td>754</td>\n",
       "      <td>32488</td>\n",
       "      <td>69.88</td>\n",
       "    </tr>\n",
       "    <tr>\n",
       "      <th>2363</th>\n",
       "      <td>ZYDUSLIFE</td>\n",
       "      <td>EQ</td>\n",
       "      <td>23-Jan-2023</td>\n",
       "      <td>438.20</td>\n",
       "      <td>440.40</td>\n",
       "      <td>447.65</td>\n",
       "      <td>436.00</td>\n",
       "      <td>442.80</td>\n",
       "      <td>444.30</td>\n",
       "      <td>443.52</td>\n",
       "      <td>1112000</td>\n",
       "      <td>4931.95</td>\n",
       "      <td>24052</td>\n",
       "      <td>557828</td>\n",
       "      <td>50.16</td>\n",
       "    </tr>\n",
       "    <tr>\n",
       "      <th>2364</th>\n",
       "      <td>ZYDUSWELL</td>\n",
       "      <td>EQ</td>\n",
       "      <td>23-Jan-2023</td>\n",
       "      <td>1446.10</td>\n",
       "      <td>1452.05</td>\n",
       "      <td>1458.95</td>\n",
       "      <td>1442.95</td>\n",
       "      <td>1458.45</td>\n",
       "      <td>1454.75</td>\n",
       "      <td>1448.06</td>\n",
       "      <td>14326</td>\n",
       "      <td>207.45</td>\n",
       "      <td>1784</td>\n",
       "      <td>11139</td>\n",
       "      <td>77.75</td>\n",
       "    </tr>\n",
       "  </tbody>\n",
       "</table>\n",
       "</div>"
      ],
      "text/plain": [
       "         SYMBOL  SERIES         DATE1   PREV_CLOSE   OPEN_PRICE   HIGH_PRICE  \\\n",
       "2360       ZOTA      EQ   23-Jan-2023       368.80       372.50       372.50   \n",
       "2361      ZUARI      EQ   23-Jan-2023       150.25       151.50       151.75   \n",
       "2362   ZUARIIND      EQ   23-Jan-2023       140.50       141.10       142.45   \n",
       "2363  ZYDUSLIFE      EQ   23-Jan-2023       438.20       440.40       447.65   \n",
       "2364  ZYDUSWELL      EQ   23-Jan-2023      1446.10      1452.05      1458.95   \n",
       "\n",
       "       LOW_PRICE   LAST_PRICE   CLOSE_PRICE   AVG_PRICE   TTL_TRD_QNTY  \\\n",
       "2360      357.00       362.00        362.00      361.96          43960   \n",
       "2361      147.40       148.25        147.80      149.26          44452   \n",
       "2362      136.80       137.00        137.85      139.24          46494   \n",
       "2363      436.00       442.80        444.30      443.52        1112000   \n",
       "2364     1442.95      1458.45       1454.75     1448.06          14326   \n",
       "\n",
       "       TURNOVER_LACS   NO_OF_TRADES  DELIV_QTY  DELIV_PER  \n",
       "2360          159.12           3876      14430      32.83  \n",
       "2361           66.35           1665      21419      48.18  \n",
       "2362           64.74            754      32488      69.88  \n",
       "2363         4931.95          24052     557828      50.16  \n",
       "2364          207.45           1784      11139      77.75  "
      ]
     },
     "execution_count": 13,
     "metadata": {},
     "output_type": "execute_result"
    }
   ],
   "source": [
    "df.tail()"
   ]
  },
  {
   "cell_type": "code",
   "execution_count": 14,
   "id": "30542e1c",
   "metadata": {},
   "outputs": [],
   "source": [
    "df1=df.reset_index()[' PREV_CLOSE']"
   ]
  },
  {
   "cell_type": "code",
   "execution_count": 15,
   "id": "bd23ebb1",
   "metadata": {},
   "outputs": [
    {
     "data": {
      "text/plain": [
       "(2365,)"
      ]
     },
     "execution_count": 15,
     "metadata": {},
     "output_type": "execute_result"
    }
   ],
   "source": [
    "df1.shape #gives number of enties in \"PREV_CLOSE\" Column"
   ]
  },
  {
   "cell_type": "code",
   "execution_count": 16,
   "id": "363e229b",
   "metadata": {},
   "outputs": [
    {
     "data": {
      "text/plain": [
       "0          89.90\n",
       "1          21.95\n",
       "2        1922.25\n",
       "3          39.95\n",
       "4       22707.75\n",
       "          ...   \n",
       "2360      368.80\n",
       "2361      150.25\n",
       "2362      140.50\n",
       "2363      438.20\n",
       "2364     1446.10\n",
       "Name:  PREV_CLOSE, Length: 2365, dtype: float64"
      ]
     },
     "execution_count": 16,
     "metadata": {},
     "output_type": "execute_result"
    }
   ],
   "source": [
    "df1"
   ]
  },
  {
   "cell_type": "code",
   "execution_count": 17,
   "id": "23742a35",
   "metadata": {},
   "outputs": [
    {
     "data": {
      "text/plain": [
       "[<matplotlib.lines.Line2D at 0x1f83cc998a0>]"
      ]
     },
     "execution_count": 17,
     "metadata": {},
     "output_type": "execute_result"
    },
    {
     "data": {
      "image/png": "[encoded data removed]",
      "text/plain": [
       "<Figure size 640x480 with 1 Axes>"
      ]
     },
     "metadata": {},
     "output_type": "display_data"
    }
   ],
   "source": [
    "plt.plot(df1) #plotting prev_close price"
   ]
  },
  {
   "cell_type": "code",
   "execution_count": 18,
   "id": "f11b9973",
   "metadata": {},
   "outputs": [],
   "source": [
    "from sklearn.preprocessing import MinMaxScaler\n",
    "scaler=MinMaxScaler(feature_range=(0,1))\n",
    "df1=scaler.fit_transform(np.array(df1).reshape(-1,1))"
   ]
  },
  {
   "cell_type": "code",
   "execution_count": 19,
   "id": "acfe2651",
   "metadata": {},
   "outputs": [
    {
     "data": {
      "text/plain": [
       "array([[0.00100048],\n",
       "       [0.00024175],\n",
       "       [0.02146071],\n",
       "       ...,\n",
       "       [0.00156549],\n",
       "       [0.00488964],\n",
       "       [0.01614396]])"
      ]
     },
     "execution_count": 19,
     "metadata": {},
     "output_type": "execute_result"
    }
   ],
   "source": [
    "df1"
   ]
  },
  {
   "cell_type": "code",
   "execution_count": 20,
   "id": "7dc3f740",
   "metadata": {},
   "outputs": [],
   "source": [
    "#splitting dataset into train and test split\n",
    "#training_size=int(len(dfe))\n",
    "train_data=df1[:1500]\n",
    "test_data=df1[1500:]"
   ]
  },
  {
   "cell_type": "code",
   "execution_count": 21,
   "id": "4ce636ba",
   "metadata": {},
   "outputs": [
    {
     "data": {
      "text/plain": [
       "1500"
      ]
     },
     "execution_count": 21,
     "metadata": {},
     "output_type": "execute_result"
    }
   ],
   "source": [
    "len(train_data)"
   ]
  },
  {
   "cell_type": "code",
   "execution_count": 22,
   "id": "7f7f5fb4",
   "metadata": {},
   "outputs": [
    {
     "data": {
      "text/plain": [
       "865"
      ]
     },
     "execution_count": 22,
     "metadata": {},
     "output_type": "execute_result"
    }
   ],
   "source": [
    "len(test_data)"
   ]
  },
  {
   "cell_type": "code",
   "execution_count": 25,
   "id": "01b89cd2",
   "metadata": {},
   "outputs": [],
   "source": [
    "#function to create X,Y train and test dataset\n",
    "def create_dataset(dataset,time_step):\n",
    "    X=[]\n",
    "    Y=[]\n",
    "    for i in range(len(dataset)-time_step-1):\n",
    "        a=dataset[i:i+time_step,0]\n",
    "        X.append(a)\n",
    "        Y.append(dataset[i+time_step,0])\n",
    "    return np.array(X),np.array(Y)        "
   ]
  },
  {
   "cell_type": "code",
   "execution_count": 26,
   "id": "737eabcf",
   "metadata": {},
   "outputs": [],
   "source": [
    "#creating train and test datasets\n",
    "time_step=100\n",
    "X_train,Y_train=create_dataset(train_data,time_step)\n",
    "X_test,Y_test=create_dataset(test_data,time_step)"
   ]
  },
  {
   "cell_type": "code",
   "execution_count": 28,
   "id": "a5223018",
   "metadata": {},
   "outputs": [
    {
     "data": {
      "text/plain": [
       "(array([[1.00048349e-03, 2.41746290e-04, 2.14607059e-02, ...,\n",
       "         1.11661104e-04, 6.27870388e-03, 7.91118922e-04],\n",
       "        [2.41746290e-04, 2.14607059e-02, 4.42736278e-04, ...,\n",
       "         6.27870388e-03, 7.91118922e-04, 1.03437264e-02],\n",
       "        [2.14607059e-02, 4.42736278e-04, 2.53553894e-01, ...,\n",
       "         7.91118922e-04, 1.03437264e-02, 1.50909982e-03],\n",
       "        ...,\n",
       "        [7.93352145e-04, 6.44284571e-04, 1.03286521e-04, ...,\n",
       "         2.46793372e-02, 1.88037299e-03, 1.15323588e-02],\n",
       "        [6.44284571e-04, 1.03286521e-04, 3.44697828e-03, ...,\n",
       "         1.88037299e-03, 1.15323588e-02, 1.32173249e-02],\n",
       "        [1.03286521e-04, 3.44697828e-03, 5.68355020e-04, ...,\n",
       "         1.15323588e-02, 1.32173249e-02, 1.48062624e-04]]),\n",
       " array([0.01034373, 0.0015091 , 0.03385676, ..., 0.01321732, 0.00014806,\n",
       "        0.01188856]))"
      ]
     },
     "execution_count": 28,
     "metadata": {},
     "output_type": "execute_result"
    }
   ],
   "source": [
    "X_train\n"
   ]
  },
  {
   "cell_type": "code",
   "execution_count": 29,
   "id": "bddb66c2",
   "metadata": {},
   "outputs": [
    {
     "data": {
      "text/plain": [
       "array([0.01034373, 0.0015091 , 0.03385676, ..., 0.01321732, 0.00014806,\n",
       "       0.01188856])"
      ]
     },
     "execution_count": 29,
     "metadata": {},
     "output_type": "execute_result"
    }
   ],
   "source": [
    "Y_train"
   ]
  },
  {
   "cell_type": "code",
   "execution_count": 30,
   "id": "f2c977fe",
   "metadata": {},
   "outputs": [
    {
     "data": {
      "text/plain": [
       "array([[1.37195765e-02, 4.62891107e-03, 4.48096011e-03, ...,\n",
       "        8.70956612e-05, 4.65626804e-04, 3.57929669e-03],\n",
       "       [4.62891107e-03, 4.48096011e-03, 4.19845751e-03, ...,\n",
       "        4.65626804e-04, 3.57929669e-03, 8.86365844e-03],\n",
       "       [4.48096011e-03, 4.19845751e-03, 1.15770233e-03, ...,\n",
       "        3.57929669e-03, 8.86365844e-03, 2.62068611e-03],\n",
       "       ...,\n",
       "       [3.88580642e-04, 2.79152760e-04, 1.37605562e-02, ...,\n",
       "        1.08757915e-03, 5.71146547e-04, 4.11471169e-03],\n",
       "       [2.79152760e-04, 1.37605562e-02, 6.08553017e-05, ...,\n",
       "        5.71146547e-04, 4.11471169e-03, 1.67435826e-03],\n",
       "       [1.37605562e-02, 6.08553017e-05, 3.69151610e-03, ...,\n",
       "        4.11471169e-03, 1.67435826e-03, 1.56548868e-03]])"
      ]
     },
     "execution_count": 30,
     "metadata": {},
     "output_type": "execute_result"
    }
   ],
   "source": [
    "X_test"
   ]
  },
  {
   "cell_type": "code",
   "execution_count": 31,
   "id": "d423d4fd",
   "metadata": {},
   "outputs": [
    {
     "data": {
      "text/plain": [
       "array([8.86365844e-03, 2.62068611e-03, 1.85804077e-03, 6.32560155e-04,\n",
       "       7.13514455e-04, 6.00290096e-03, 4.43294583e-04, 3.62284452e-03,\n",
       "       1.96858526e-03, 3.00256709e-03, 4.35422475e-03, 4.84720853e-03,\n",
       "       3.08285142e-02, 9.78765408e-03, 1.75553588e-02, 5.93255446e-03,\n",
       "       3.25547949e-03, 2.48948432e-03, 3.60509041e-02, 2.43365376e-02,\n",
       "       2.63129392e-03, 1.82007600e-03, 1.25730403e-03, 1.61908601e-04,\n",
       "       3.82271790e-03, 7.52037536e-04, 5.08058024e-05, 2.90318871e-04,\n",
       "       1.19142398e-03, 4.10912863e-04, 2.03390701e-03, 8.53649141e-04,\n",
       "       4.29895251e-03, 3.07068036e-05, 1.14620123e-03, 6.82249346e-04,\n",
       "       4.93988724e-03, 2.27397838e-03, 1.12107748e-03, 6.59023836e-03,\n",
       "       1.72237253e-03, 4.38828139e-04, 1.87032349e-04, 1.21437034e-02,\n",
       "       1.67156673e-03, 3.45032812e-04, 1.20091517e-03, 1.11074883e-02,\n",
       "       3.53407394e-04, 8.03178322e-03, 5.21122373e-04, 1.19086568e-03,\n",
       "       3.69039949e-04, 1.03677335e-03, 1.12314322e-02, 9.88759077e-04,\n",
       "       9.93783826e-05, 1.79841374e-02, 5.38094861e-04, 2.16622542e-03,\n",
       "       2.13032637e-02, 6.47634404e-05, 4.22916432e-03, 1.98756765e-03,\n",
       "       7.25797177e-06, 2.00989987e-05, 2.38563949e-03, 1.05798896e-03,\n",
       "       1.17322322e-02, 1.72516406e-04, 1.41474619e-03, 1.93899507e-03,\n",
       "       8.12167041e-03, 9.77202152e-03, 1.95965238e-04, 9.17407631e-03,\n",
       "       5.35414994e-04, 6.00178434e-04, 5.56630604e-04, 2.51349145e-03,\n",
       "       1.66375045e-04, 2.78650285e-03, 4.47761027e-04, 7.86596648e-03,\n",
       "       1.76480375e-03, 2.63687697e-03, 3.45256134e-03, 1.79830208e-03,\n",
       "       2.73011399e-04, 2.46659379e-03, 9.94453793e-03, 4.18784971e-03,\n",
       "       2.19313575e-02, 1.68290033e-02, 1.24557962e-03, 8.15349382e-03,\n",
       "       1.89265571e-03, 6.56008986e-04, 1.37510650e-03, 1.95406932e-05,\n",
       "       1.38236447e-03, 1.20560494e-02, 1.31056638e-02, 1.30833316e-02,\n",
       "       1.34518132e-02, 2.08024637e-03, 2.91100498e-03, 2.59053761e-04,\n",
       "       9.38120766e-03, 1.21152298e-04, 2.00655004e-03, 2.72715498e-02,\n",
       "       1.88818927e-03, 1.51803271e-03, 2.60840339e-03, 6.01853351e-04,\n",
       "       2.63241053e-03, 1.74470475e-03, 3.95615292e-03, 1.48341777e-03,\n",
       "       1.22447567e-02, 4.53902388e-04, 1.08702085e-03, 3.23817202e-05,\n",
       "       4.74224709e-03, 4.18394157e-03, 9.61960412e-03, 1.22659723e-03,\n",
       "       1.00662485e-03, 1.01477611e-02, 1.76982850e-03, 3.81099348e-03,\n",
       "       9.16179359e-04, 1.89265571e-04, 7.25797177e-04, 2.96906876e-03,\n",
       "       1.61908601e-05, 1.94290321e-04, 4.61662835e-03, 3.40566367e-05,\n",
       "       2.88867276e-03, 2.01073733e-02, 1.22827214e-05, 4.01979975e-05,\n",
       "       6.43726265e-04, 7.93407975e-03, 3.55808108e-03, 6.02746640e-03,\n",
       "       1.31313458e-02, 9.81333613e-03, 1.51300796e-04, 5.26482106e-04,\n",
       "       1.95909407e-03, 5.03312427e-03, 2.70219872e-04, 1.96579374e-03,\n",
       "       2.70889839e-03, 5.19782440e-04, 4.07563030e-05, 2.25834583e-03,\n",
       "       1.23385520e-04, 1.36059055e-03, 3.14716822e-03, 4.54851507e-03,\n",
       "       6.06878101e-03, 2.57937150e-04, 8.53649141e-04, 3.18792452e-04,\n",
       "       1.90382182e-04, 2.34488319e-05, 1.53534018e-04, 5.91803852e-05,\n",
       "       2.06215727e-02, 3.10417869e-04, 2.52465756e-03, 9.03896638e-04,\n",
       "       1.01834927e-03, 2.78091980e-03, 2.60170373e-04, 1.56437207e-03,\n",
       "       1.75866239e-04, 5.58305520e-04, 2.81050999e-03, 2.54587317e-04,\n",
       "       3.22979744e-03, 3.85230809e-05, 1.03286521e-04, 1.20465582e-02,\n",
       "       2.64301833e-03, 2.46156904e-03, 7.68228396e-04, 3.85230809e-03,\n",
       "       2.48445957e-04, 6.33894505e-02, 8.17694265e-03, 3.90813864e-06,\n",
       "       1.44601130e-02, 1.24552379e-02, 4.00919194e-03, 5.01916663e-04,\n",
       "       9.65310245e-04, 1.01661852e-02, 3.15051805e-03, 1.84240822e-05,\n",
       "       1.45717741e-03, 1.70562336e-03, 8.82681028e-04, 1.68608267e-04,\n",
       "       4.37655697e-03, 8.39858994e-03, 8.26850476e-04, 3.41705311e-03,\n",
       "       2.40953496e-03, 1.65403593e-03, 1.44690459e-02, 6.60922075e-03,\n",
       "       1.46834352e-04, 2.97956490e-02, 1.87981469e-03, 2.16901695e-03,\n",
       "       1.57665479e-03, 6.35240021e-03, 1.37343158e-03, 1.23162198e-03,\n",
       "       1.22938876e-03, 9.32761033e-03, 3.74455513e-03, 2.72453094e-04,\n",
       "       6.38143210e-04, 2.96292740e-03, 2.56485556e-03, 5.87449069e-03,\n",
       "       1.61350295e-04, 1.78657767e-04, 9.50235996e-04, 2.03279040e-03,\n",
       "       3.21751471e-03, 1.17244159e-04, 2.30133536e-03, 5.56630604e-04,\n",
       "       2.08214461e-03, 4.76390934e-03, 4.88796483e-03, 1.39576380e-05,\n",
       "       3.45032812e-04, 1.39693624e-02, 5.95120186e-02, 6.28618518e-02,\n",
       "       5.98425355e-02, 5.98052407e-02, 5.93409538e-02, 5.99367775e-02,\n",
       "       5.97353409e-02, 5.97130086e-02, 6.00544683e-02, 6.02936464e-02,\n",
       "       6.10752741e-02, 6.18569018e-02, 6.02936464e-02, 6.28060212e-02,\n",
       "       5.98916664e-02, 5.95071056e-02, 5.90093204e-02, 6.14096991e-02,\n",
       "       5.87415570e-02, 5.89528198e-02, 5.89377456e-02, 5.90048539e-02,\n",
       "       5.88978826e-02, 6.14454307e-02, 5.92886964e-02, 5.88772253e-02,\n",
       "       5.91770353e-02, 5.99463803e-02, 5.89665541e-02, 5.91768120e-02,\n",
       "       5.92083004e-02, 6.19685629e-02, 5.91770353e-02, 5.95351325e-02,\n",
       "       6.14659763e-02, 6.14102574e-02, 5.91669858e-02, 5.90657092e-02,\n",
       "       5.90652626e-02, 5.91353857e-02, 6.24590902e-02, 6.14102574e-02,\n",
       "       6.14102574e-02, 6.14102574e-02, 5.90195932e-02, 5.91102620e-02,\n",
       "       6.18513188e-02, 6.09412808e-02, 6.05727991e-02, 5.96771654e-02,\n",
       "       5.90095437e-02, 6.20476190e-02, 5.95734323e-02, 5.95452937e-02,\n",
       "       5.91801618e-02, 1.46220216e-03, 1.97640154e-04, 7.98376894e-04,\n",
       "       1.70612584e-02, 4.57698866e-03, 1.72237253e-03, 1.52361577e-03,\n",
       "       7.20102460e-03, 2.31696791e-04, 3.93884545e-03, 5.35861638e-03,\n",
       "       8.24673084e-03, 1.35668241e-02, 4.66274438e-03, 1.59507887e-03,\n",
       "       2.88141479e-03, 7.97986080e-03, 2.99810064e-04, 1.08813746e-03,\n",
       "       1.48900082e-03, 1.58279615e-03, 7.56057336e-03, 5.99061823e-04,\n",
       "       8.24617254e-04, 2.72683674e-01, 1.96691035e-03, 1.30643492e-04,\n",
       "       1.39576380e-05, 1.77373664e-03, 3.26497068e-03, 1.34060322e-02,\n",
       "       1.42591230e-02, 1.12185911e-02, 1.16652355e-02, 1.16540694e-02,\n",
       "       1.20337172e-02, 1.67346497e-02, 1.14474964e-02, 1.13749167e-02,\n",
       "       1.13346070e-02, 1.18316106e-02, 1.61093475e-02, 1.16905826e-02,\n",
       "       8.14009449e-04, 4.57810527e-04, 2.24997125e-04, 3.63847708e-03,\n",
       "       1.13894326e-04, 1.81840108e-03, 3.41749975e-02, 3.75069649e-03,\n",
       "       4.29895251e-04, 2.54531487e-03, 1.14899276e-03, 3.63456894e-04,\n",
       "       2.91993787e-04, 3.75572124e-03, 3.15442619e-04, 7.79282845e-04,\n",
       "       7.51367569e-04, 3.70435713e-03, 2.75244622e-04, 6.26418794e-04,\n",
       "       1.16350870e-03, 3.01484981e-05, 6.91573048e-03, 4.17556699e-03,\n",
       "       1.50742491e-05, 6.32839307e-03, 5.29776108e-03, 3.76856226e-04,\n",
       "       5.09481703e-02, 2.84735815e-05, 1.30978475e-03, 1.59898701e-03,\n",
       "       2.23489700e-03, 2.82837577e-03, 1.51691610e-03, 8.59232196e-04,\n",
       "       8.68109254e-03, 1.92447913e-03, 6.92410506e-03, 8.75981362e-04,\n",
       "       4.18170835e-04, 6.88949012e-03, 2.01715785e-03, 4.64175210e-03,\n",
       "       4.74453614e-02, 3.73729715e-03, 5.80358588e-03, 1.01053299e-04,\n",
       "       4.41619667e-04, 4.55186491e-03, 5.56072298e-04, 6.53775764e-03,\n",
       "       4.32686778e-04, 3.37049043e-03, 1.99873376e-04, 1.29582711e-03,\n",
       "       3.53798208e-03, 6.41883857e-03, 2.27900313e-03, 2.98693453e-04,\n",
       "       3.06342239e-03, 1.59452057e-03, 7.95585367e-04, 1.50742491e-05,\n",
       "       8.68723390e-04, 4.09237946e-04, 8.21825726e-04, 4.02538280e-03,\n",
       "       2.97018537e-04, 7.45282039e-03, 3.12651091e-05, 3.34983312e-06,\n",
       "       2.32757571e-03, 4.57475543e-03, 4.68005186e-03, 3.23817202e-05,\n",
       "       2.35035458e-02, 5.68578342e-03, 6.63825264e-04, 7.48129397e-05,\n",
       "       1.67547487e-03, 7.25797177e-06, 3.66360082e-03, 1.27684473e-03,\n",
       "       5.92529649e-03, 2.01492462e-03, 1.50909982e-03, 9.77592966e-04,\n",
       "       5.44068730e-03, 6.56567292e-04, 1.66375045e-04, 1.62355245e-03,\n",
       "       3.89808914e-03, 2.06405551e-03, 5.67964206e-03, 1.21543112e-02,\n",
       "       8.96024530e-03, 3.99746753e-04, 3.40398876e-03, 4.21241515e-03,\n",
       "       5.06718090e-03, 4.72382301e-03, 3.96396919e-05, 5.25532986e-03,\n",
       "       3.11534480e-04, 7.07261433e-03, 5.42885122e-02, 2.90318871e-05,\n",
       "       2.55676013e-02, 9.79267883e-04, 3.61056180e-03, 1.10667320e-02,\n",
       "       1.45773571e-03, 1.15016520e-02, 4.09740421e-03, 5.40774727e-03,\n",
       "       2.25946244e-03, 9.04454943e-05, 3.65913438e-03, 1.06078049e-05,\n",
       "       2.63598368e-02, 2.45654429e-04, 2.40406357e-03, 2.43421207e-04,\n",
       "       1.25060437e-04, 3.95280308e-04, 6.74991374e-04, 6.85655010e-03,\n",
       "       1.25730403e-03, 6.90623929e-04, 4.19287446e-04, 7.26913788e-04,\n",
       "       5.52331651e-03, 5.24807189e-05, 1.08311271e-04, 7.92793839e-05,\n",
       "       1.47057674e-03, 3.44474506e-04, 4.03934044e-03, 5.74496381e-04,\n",
       "       1.81024982e-02, 1.10823646e-03, 3.79480262e-03, 3.04053186e-03,\n",
       "       1.07914874e-02, 8.59790501e-05, 6.75382188e-03, 3.02601592e-03,\n",
       "       1.38683091e-03, 2.23992175e-03, 2.50679179e-04, 5.60538742e-03,\n",
       "       7.79059523e-03, 1.47392657e-04, 9.12271220e-04, 8.55324057e-04,\n",
       "       4.54460694e-04, 6.01853351e-04, 7.76212165e-03, 1.15625632e-01,\n",
       "       1.13983655e-02, 1.15211927e-02, 1.17992289e-02, 1.08930990e-02,\n",
       "       2.39066424e-03, 1.50262348e-02, 8.24226440e-03, 7.12174522e-02,\n",
       "       2.52136356e-02, 9.55595729e-03, 4.49826758e-03, 2.36163235e-03,\n",
       "       2.31026824e-03, 1.36952344e-03, 8.11664566e-03, 2.43130888e-02,\n",
       "       8.37458281e-04, 1.15248775e-02, 1.24580294e-02, 1.17210661e-02,\n",
       "       1.19326639e-02, 6.99221834e-03, 2.08839763e-02, 3.57315533e-05,\n",
       "       5.66345120e-03, 1.51853518e-02, 3.75493961e-02, 1.51077474e-03,\n",
       "       2.75981585e-02, 3.32303446e-04, 1.12219410e-04, 1.16819847e-02,\n",
       "       4.08623810e-03, 6.47578573e-03, 6.05593998e-03, 1.64867620e-03,\n",
       "       4.79026137e-04, 6.50984237e-04, 6.20277433e-04, 6.51542542e-04,\n",
       "       9.79826188e-04, 1.08311271e-04, 2.79152760e-05, 1.20593992e-04,\n",
       "       1.22257743e-02, 1.00662485e-03, 1.45237598e-02, 1.35757570e-02,\n",
       "       2.18783184e-02, 7.92793839e-04, 4.70651554e-04, 6.23571436e-03,\n",
       "       1.31257628e-03, 1.10974388e-02, 1.04246807e-02, 2.94165596e-02,\n",
       "       8.43041336e-05, 1.81281802e-03, 5.73379769e-04, 9.81501105e-04,\n",
       "       3.43843621e-02, 4.00025905e-03, 5.02530799e-03, 1.88182459e-02,\n",
       "       2.18744103e-03, 2.13272709e-04, 2.64748478e-02, 5.34019230e-03,\n",
       "       6.08553017e-04, 9.89317382e-04, 2.78594455e-03, 7.81627729e-05,\n",
       "       1.09148729e-03, 1.76619951e-02, 5.13306095e-03, 1.73353864e-03,\n",
       "       1.85636586e-03, 3.89138948e-04, 1.05017268e-03, 9.37953274e-05,\n",
       "       1.88148960e-04, 7.63203646e-04, 1.31983425e-02, 2.05623923e-03,\n",
       "       3.63456894e-04, 1.01444113e-03, 8.62582029e-04, 3.06342239e-03,\n",
       "       3.11478650e-03, 8.02285033e-04, 1.11906759e-02, 8.87370794e-03,\n",
       "       9.12271220e-04, 9.41861413e-04, 3.89697253e-04, 4.60490393e-03,\n",
       "       1.08266607e-02, 3.74081448e-02, 2.84624154e-03, 2.23322208e-05,\n",
       "       2.45766090e-03, 1.75129276e-02, 1.39520550e-03, 7.72694840e-04,\n",
       "       3.41124673e-04, 3.38891451e-04, 6.28093710e-03, 9.79267883e-04,\n",
       "       1.12554393e-03, 1.69278234e-03, 7.63505131e-03, 1.11627606e-02,\n",
       "       1.12855878e-02, 2.73569705e-05, 3.11534480e-03, 3.23817202e-04,\n",
       "       8.01374995e-02, 4.67860026e-04, 5.56072298e-04, 7.23563954e-04,\n",
       "       5.41556355e-05, 3.17731672e-03, 2.67484175e-03, 1.48955913e-03,\n",
       "       2.66870039e-04, 9.03896638e-04, 6.16090142e-03, 1.61908601e-05,\n",
       "       1.31704272e-03, 3.05113967e-03, 6.47634404e-05, 1.03342352e-03,\n",
       "       3.46931050e-03, 5.44180391e-03, 5.69918275e-03, 8.23500643e-03,\n",
       "       1.05519743e-04, 6.24911369e-03, 2.24215497e-03, 8.62526198e-03,\n",
       "       4.75117998e-04, 4.89522280e-04, 2.14546762e-02, 7.17813408e-03,\n",
       "       5.56630604e-04, 3.17564180e-03, 9.96017048e-04, 1.03956488e-03,\n",
       "       3.23264479e-02, 3.28227815e-03, 1.66877520e-03, 2.94227009e-04,\n",
       "       5.78069536e-03, 5.80637741e-04, 2.08806265e-04, 3.20746521e-03,\n",
       "       2.37838152e-04, 3.88580642e-04, 2.79152760e-04, 1.37605562e-02,\n",
       "       6.08553017e-05, 3.69151610e-03, 4.43294583e-04, 2.07767816e-02,\n",
       "       8.07030630e-03, 1.80109361e-03, 2.90765515e-03, 2.79655235e-03,\n",
       "       1.77390413e-02, 1.20928976e-03, 2.80995168e-03, 3.23398473e-02,\n",
       "       2.34488319e-05, 4.00751703e-03, 4.59597104e-03, 3.18234147e-05,\n",
       "       3.74064699e-05, 4.68976637e-05, 4.46644416e-06, 1.61908601e-05,\n",
       "       4.79361120e-03, 2.18906011e-02, 1.88299703e-02, 6.58242209e-04,\n",
       "       2.54084842e-03, 4.66352601e-03, 5.06383107e-04, 7.68954193e-03,\n",
       "       1.95965238e-04, 4.75508812e-03, 1.62466906e-04, 2.79152760e-06,\n",
       "       2.24997125e-04, 2.99028437e-03, 1.88148960e-04, 1.37008175e-03,\n",
       "       1.11940257e-03, 9.49119385e-06, 1.53701510e-03, 2.04116498e-03,\n",
       "       5.39323133e-04, 3.12606427e-02, 2.77181942e-02, 8.70677459e-03,\n",
       "       6.20444925e-03, 4.09796252e-04, 3.84225859e-03, 3.52692763e-02,\n",
       "       2.57256018e-02, 3.46093592e-03, 3.59046280e-03, 8.19592504e-04,\n",
       "       5.03591579e-04, 8.17359282e-04, 3.89920575e-03, 1.10711985e-03,\n",
       "       1.30252678e-03, 2.90821346e-03, 2.52800740e-03, 1.63751009e-03,\n",
       "       3.14158516e-03, 8.03959949e-04, 9.31449015e-02, 7.74258096e-03,\n",
       "       5.52164160e-04, 6.48360201e-03, 1.58960748e-02, 2.32255096e-04,\n",
       "       2.82055949e-03, 5.68355020e-04, 3.62898588e-05, 9.29020386e-04,\n",
       "       4.49826758e-03, 2.42416257e-03, 3.87854845e-03, 1.20593992e-03,\n",
       "       1.82007600e-04, 5.96493618e-03, 7.41988037e-04, 1.80444344e-03,\n",
       "       7.90951431e-03, 2.02106598e-04, 2.17180847e-04, 6.02969962e-03,\n",
       "       2.48390126e-03, 6.97881901e-05, 1.50742491e-04, 1.01890757e-03,\n",
       "       5.69471631e-05, 2.43532868e-03, 2.14780134e-03, 1.00556407e-01,\n",
       "       9.77592966e-04, 1.34886614e-03, 1.08757915e-03, 5.71146547e-04,\n",
       "       4.11471169e-03, 1.67435826e-03, 1.56548868e-03, 4.88963975e-03])"
      ]
     },
     "execution_count": 31,
     "metadata": {},
     "output_type": "execute_result"
    }
   ],
   "source": [
    "Y_test"
   ]
  },
  {
   "cell_type": "code",
   "execution_count": 32,
   "id": "cca97502",
   "metadata": {},
   "outputs": [
    {
     "data": {
      "text/plain": [
       "((1399, 100), (1399,), (764, 100), (764,))"
      ]
     },
     "execution_count": 32,
     "metadata": {},
     "output_type": "execute_result"
    }
   ],
   "source": [
    "X_train.shape,Y_train.shape,X_test.shape,Y_test.shape"
   ]
  },
  {
   "cell_type": "code",
   "execution_count": 33,
   "id": "73cdf39a",
   "metadata": {},
   "outputs": [
    {
     "data": {
      "text/plain": [
       "[<matplotlib.lines.Line2D at 0x1f84ecc48b0>,\n",
       " <matplotlib.lines.Line2D at 0x1f83ca52dd0>,\n",
       " <matplotlib.lines.Line2D at 0x1f83ca529b0>,\n",
       " <matplotlib.lines.Line2D at 0x1f82adba260>,\n",
       " <matplotlib.lines.Line2D at 0x1f8270608b0>,\n",
       " <matplotlib.lines.Line2D at 0x1f83ca514e0>,\n",
       " <matplotlib.lines.Line2D at 0x1f83ca52d40>,\n",
       " <matplotlib.lines.Line2D at 0x1f83ca51330>,\n",
       " <matplotlib.lines.Line2D at 0x1f84ecc4d60>,\n",
       " <matplotlib.lines.Line2D at 0x1f84ecc4e50>,\n",
       " <matplotlib.lines.Line2D at 0x1f84ecc4f40>,\n",
       " <matplotlib.lines.Line2D at 0x1f84ecc48e0>,\n",
       " <matplotlib.lines.Line2D at 0x1f84ecc5030>,\n",
       " <matplotlib.lines.Line2D at 0x1f84ecc51e0>,\n",
       " <matplotlib.lines.Line2D at 0x1f84ecc52d0>,\n",
       " <matplotlib.lines.Line2D at 0x1f84ecc53c0>,\n",
       " <matplotlib.lines.Line2D at 0x1f84ecc54b0>,\n",
       " <matplotlib.lines.Line2D at 0x1f84ecc55a0>,\n",
       " <matplotlib.lines.Line2D at 0x1f84ecc5690>,\n",
       " <matplotlib.lines.Line2D at 0x1f84ecc5780>,\n",
       " <matplotlib.lines.Line2D at 0x1f84ecc5870>,\n",
       " <matplotlib.lines.Line2D at 0x1f84ecc5960>,\n",
       " <matplotlib.lines.Line2D at 0x1f84ecc5a50>,\n",
       " <matplotlib.lines.Line2D at 0x1f84ecc5b40>,\n",
       " <matplotlib.lines.Line2D at 0x1f84ecc5c30>,\n",
       " <matplotlib.lines.Line2D at 0x1f84ecc5d20>,\n",
       " <matplotlib.lines.Line2D at 0x1f84ecc5e10>,\n",
       " <matplotlib.lines.Line2D at 0x1f84ecc5f00>,\n",
       " <matplotlib.lines.Line2D at 0x1f84ecc5ff0>,\n",
       " <matplotlib.lines.Line2D at 0x1f84ecc60e0>,\n",
       " <matplotlib.lines.Line2D at 0x1f84ecc61d0>,\n",
       " <matplotlib.lines.Line2D at 0x1f84ecc62c0>,\n",
       " <matplotlib.lines.Line2D at 0x1f84ecc63b0>,\n",
       " <matplotlib.lines.Line2D at 0x1f84ecc64a0>,\n",
       " <matplotlib.lines.Line2D at 0x1f84ecc6590>,\n",
       " <matplotlib.lines.Line2D at 0x1f84ecc6680>,\n",
       " <matplotlib.lines.Line2D at 0x1f84ecc6770>,\n",
       " <matplotlib.lines.Line2D at 0x1f84ecc6860>,\n",
       " <matplotlib.lines.Line2D at 0x1f84ecc6950>,\n",
       " <matplotlib.lines.Line2D at 0x1f84ecc6a40>,\n",
       " <matplotlib.lines.Line2D at 0x1f84ecc6b30>,\n",
       " <matplotlib.lines.Line2D at 0x1f84ecc6c20>,\n",
       " <matplotlib.lines.Line2D at 0x1f84ecc6d10>,\n",
       " <matplotlib.lines.Line2D at 0x1f84ecc6e00>,\n",
       " <matplotlib.lines.Line2D at 0x1f84ecc6ef0>,\n",
       " <matplotlib.lines.Line2D at 0x1f84ecc6fe0>,\n",
       " <matplotlib.lines.Line2D at 0x1f84ecc70d0>,\n",
       " <matplotlib.lines.Line2D at 0x1f84ecc71c0>,\n",
       " <matplotlib.lines.Line2D at 0x1f84ecc72b0>,\n",
       " <matplotlib.lines.Line2D at 0x1f84ecc73a0>,\n",
       " <matplotlib.lines.Line2D at 0x1f84ecc7490>,\n",
       " <matplotlib.lines.Line2D at 0x1f84ecc7580>,\n",
       " <matplotlib.lines.Line2D at 0x1f84ecc7670>,\n",
       " <matplotlib.lines.Line2D at 0x1f84ecc7760>,\n",
       " <matplotlib.lines.Line2D at 0x1f84ecc7850>,\n",
       " <matplotlib.lines.Line2D at 0x1f84ecc7940>,\n",
       " <matplotlib.lines.Line2D at 0x1f84ecc7a30>,\n",
       " <matplotlib.lines.Line2D at 0x1f84ecc7b20>,\n",
       " <matplotlib.lines.Line2D at 0x1f84ecc7c10>,\n",
       " <matplotlib.lines.Line2D at 0x1f84ecc7d00>,\n",
       " <matplotlib.lines.Line2D at 0x1f84ecc7df0>,\n",
       " <matplotlib.lines.Line2D at 0x1f84ecc7ee0>,\n",
       " <matplotlib.lines.Line2D at 0x1f84ecc7fd0>,\n",
       " <matplotlib.lines.Line2D at 0x1f84ecdc100>,\n",
       " <matplotlib.lines.Line2D at 0x1f84ecdc1f0>,\n",
       " <matplotlib.lines.Line2D at 0x1f84ecdc2e0>,\n",
       " <matplotlib.lines.Line2D at 0x1f84ecdc3d0>,\n",
       " <matplotlib.lines.Line2D at 0x1f84ecdc4c0>,\n",
       " <matplotlib.lines.Line2D at 0x1f84ecdc5b0>,\n",
       " <matplotlib.lines.Line2D at 0x1f84ecdc6a0>,\n",
       " <matplotlib.lines.Line2D at 0x1f84ecdc790>,\n",
       " <matplotlib.lines.Line2D at 0x1f84ecdc880>,\n",
       " <matplotlib.lines.Line2D at 0x1f84ecdc970>,\n",
       " <matplotlib.lines.Line2D at 0x1f84ecdca60>,\n",
       " <matplotlib.lines.Line2D at 0x1f84ec62bf0>,\n",
       " <matplotlib.lines.Line2D at 0x1f84ec62c20>,\n",
       " <matplotlib.lines.Line2D at 0x1f84ec62c50>,\n",
       " <matplotlib.lines.Line2D at 0x1f84ec61360>,\n",
       " <matplotlib.lines.Line2D at 0x1f83ca51480>,\n",
       " <matplotlib.lines.Line2D at 0x1f84ecdcc40>,\n",
       " <matplotlib.lines.Line2D at 0x1f84ecdcdf0>,\n",
       " <matplotlib.lines.Line2D at 0x1f84ecdcee0>,\n",
       " <matplotlib.lines.Line2D at 0x1f84ecdcfd0>,\n",
       " <matplotlib.lines.Line2D at 0x1f84ecdd0c0>,\n",
       " <matplotlib.lines.Line2D at 0x1f84ecdd1b0>,\n",
       " <matplotlib.lines.Line2D at 0x1f84ecdd2a0>,\n",
       " <matplotlib.lines.Line2D at 0x1f84ecdd390>,\n",
       " <matplotlib.lines.Line2D at 0x1f84ecdd480>,\n",
       " <matplotlib.lines.Line2D at 0x1f84ecdd570>,\n",
       " <matplotlib.lines.Line2D at 0x1f84ecdd660>,\n",
       " <matplotlib.lines.Line2D at 0x1f84ecdd750>,\n",
       " <matplotlib.lines.Line2D at 0x1f84ecdd840>,\n",
       " <matplotlib.lines.Line2D at 0x1f84ecdd930>,\n",
       " <matplotlib.lines.Line2D at 0x1f84ecdda20>,\n",
       " <matplotlib.lines.Line2D at 0x1f84ecddb10>,\n",
       " <matplotlib.lines.Line2D at 0x1f84ecddc00>,\n",
       " <matplotlib.lines.Line2D at 0x1f84ecddcf0>,\n",
       " <matplotlib.lines.Line2D at 0x1f84ecddde0>,\n",
       " <matplotlib.lines.Line2D at 0x1f84ecdded0>,\n",
       " <matplotlib.lines.Line2D at 0x1f84ecddfc0>]"
      ]
     },
     "execution_count": 33,
     "metadata": {},
     "output_type": "execute_result"
    },
    {
     "data": {
      "image/png": "[encoded data removed]",
      "text/plain": [
       "<Figure size 640x480 with 1 Axes>"
      ]
     },
     "metadata": {},
     "output_type": "display_data"
    }
   ],
   "source": [
    "plt.plot(X_train,Y_train)"
   ]
  },
  {
   "cell_type": "code",
   "execution_count": null,
   "id": "2e05c2c7",
   "metadata": {},
   "outputs": [],
   "source": []
  }
 ],
 "metadata": {
  "kernelspec": {
   "display_name": "Python 3 (ipykernel)",
   "language": "python",
   "name": "python3"
  },
  "language_info": {
   "codemirror_mode": {
    "name": "ipython",
    "version": 3
   },
   "file_extension": ".py",
   "mimetype": "text/x-python",
   "name": "python",
   "nbconvert_exporter": "python",
   "pygments_lexer": "ipython3",
   "version": "3.10.6"
  }
 },
 "nbformat": 4,
 "nbformat_minor": 5
}
