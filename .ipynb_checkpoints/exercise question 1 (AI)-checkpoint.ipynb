{
 "cells": [
  {
   "cell_type": "code",
   "execution_count": 2,
   "id": "c048d152",
   "metadata": {},
   "outputs": [
    {
     "data": {
      "text/plain": [
       "\"\\nquestion- Predict canda's per capita income in year 2020. Consider canada_per_capita_income.csv file. Using this build a\\n regression model and predict the per capita income for Canadian citizens in year 2020.\\n\""
      ]
     },
     "execution_count": 2,
     "metadata": {},
     "output_type": "execute_result"
    }
   ],
   "source": [
    "\"\"\"\n",
    "question- Predict canda's per capita income in year 2020. Consider canada_per_capita_income.csv file. Using this build a\n",
    " regression model and predict the per capita income for Canadian citizens in year 2020.\n",
    "\"\"\"\n"
   ]
  },
  {
   "cell_type": "code",
   "execution_count": null,
   "id": "4b952d6e",
   "metadata": {},
   "outputs": [],
   "source": [
    "import pandas as pd\n",
    "df=pd.read_csv('canada_per_capita_income.csv')\n",
    "x=df.drop('Income',axis=1)\n",
    "y=df.drop('Year',axis=1)\n",
    "from sklearn import linear_model\n",
    "reg=linear_model.LinearRegression()\n",
    "reg.fit(x,y)\n",
    "reg.predict([[2020]])\n",
    "reg.coef_\n",
    "reg.intercept_"
   ]
  },
  {
   "cell_type": "code",
   "execution_count": null,
   "id": "7b11968d",
   "metadata": {},
   "outputs": [],
   "source": []
  }
 ],
 "metadata": {
  "kernelspec": {
   "display_name": "Python 3 (ipykernel)",
   "language": "python",
   "name": "python3"
  },
  "language_info": {
   "codemirror_mode": {
    "name": "ipython",
    "version": 3
   },
   "file_extension": ".py",
   "mimetype": "text/x-python",
   "name": "python",
   "nbconvert_exporter": "python",
   "pygments_lexer": "ipython3",
   "version": "3.10.6"
  }
 },
 "nbformat": 4,
 "nbformat_minor": 5
}
